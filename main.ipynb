{
 "cells": [
  {
   "cell_type": "code",
   "execution_count": 83,
   "metadata": {},
   "outputs": [],
   "source": [
    "import scaper\n",
    "import os\n",
    "\n",
    "path_to_audio = os.path.expanduser('/Users/dilipharish/Master-Thesis/scaper-master/datasets/soundbanks/train/')\n",
    "\n",
    "soundscape_duration = 10\n",
    "seed = 123\n",
    "foreground_folder = os.path.join(path_to_audio, 'foreground')\n",
    "background_folder = os.path.join(path_to_audio, 'background')\n",
    "sc = scaper.Scaper(soundscape_duration, foreground_folder, background_folder)\n",
    "sc.ref_db = -20"
   ]
  },
  {
   "cell_type": "code",
   "execution_count": 84,
   "metadata": {},
   "outputs": [],
   "source": [
    "# sc.add_background(label=('const', 'street_music'),\n",
    "#                   source_file=('choose', []),\n",
    "#                   source_time=('const', 0))\n",
    "\n",
    "sc.add_background(label=('const', 'gun_shot'),\n",
    "                  source_file=('choose', []),\n",
    "                  source_time=('const', 0))"
   ]
  },
  {
   "cell_type": "code",
   "execution_count": 85,
   "metadata": {},
   "outputs": [],
   "source": [
    "sc.add_event(label=('const', 'children_playing'),\n",
    "             source_file=('choose', []),\n",
    "             source_time=('const', 0),\n",
    "             event_time=('uniform', 0, 9),\n",
    "            #  event_time=(\"truncnorm\", 0.23, 0.2, 0.0, 2.5 - event_duration),\n",
    "             event_duration=('truncnorm', 3, 1, 0.5, 5),\n",
    "             snr=('normal', 10, 3),\n",
    "             pitch_shift=('uniform', -2, 2),\n",
    "             time_stretch=('uniform', 0.5, 1.2))"
   ]
  },
  {
   "cell_type": "code",
   "execution_count": 86,
   "metadata": {},
   "outputs": [
    {
     "name": "stderr",
     "output_type": "stream",
     "text": [
      "/Users/dilipharish/Master-Thesis/scaper-master/scaper/core.py:1591: ScaperWarning: gun_shot source time tuple (const, 0) could not be satisfied given source duration (0.91) and event duration (10.00), source time tuple changed to (const, 0) but was still not satisfiable, likely due to using 'normal' distribution with bounds too close to the start or end of the audio file\n",
      "  ScaperWarning)\n",
      "/Users/dilipharish/Master-Thesis/scaper-master/scaper/core.py:1631: ScaperWarning: children_playing event time (8.57) is too great given stretched event duration (2.12) and soundscape duration (10.00), changed to 7.88.\n",
      "  ScaperWarning)\n",
      "/Users/dilipharish/Master-Thesis/scaper-master/scaper/core.py:2078: ScaperWarning: Soundscape audio is clipping!\n",
      "  ScaperWarning)\n"
     ]
    },
    {
     "data": {
      "text/plain": [
       "(array([[9.03606415e-05],\n",
       "        [6.02602959e-05],\n",
       "        [9.03606415e-05],\n",
       "        ...,\n",
       "        [2.70402813e-02],\n",
       "        [4.22195164e-02],\n",
       "        [6.65389560e-03]]),\n",
       " <JAMS(file_metadata=<FileMetadata(...)>,\n",
       "       annotations=[1 annotation],\n",
       "       sandbox=<Sandbox(...)>)>,\n",
       " [[7.876380431650431, 10.0, 'children_playing']],\n",
       " [array([[ 9.03553136e-05],\n",
       "         [ 6.02368758e-05],\n",
       "         [ 9.03553136e-05],\n",
       "         ...,\n",
       "         [-4.21658130e-04],\n",
       "         [-3.31302817e-04],\n",
       "         [-3.31302817e-04]]),\n",
       "  array([[0.        ],\n",
       "         [0.        ],\n",
       "         [0.        ],\n",
       "         ...,\n",
       "         [0.00286998],\n",
       "         [0.        ],\n",
       "         [0.        ]])])"
      ]
     },
     "execution_count": 86,
     "metadata": {},
     "output_type": "execute_result"
    }
   ],
   "source": [
    "audiofile = '/Users/dilipharish/Master-Thesis/scaper-master/outputfiles/mysoundscape.wav'\n",
    "jamsfile = '/Users/dilipharish/Master-Thesis/scaper-master/outputfiles/mysoundscape.jams'\n",
    "txtfile = '/Users/dilipharish/Master-Thesis/scaper-master/outputfiles/mysoundscape.txt'\n",
    "\n",
    "sc.generate(audiofile, jamsfile,\n",
    "            allow_repeated_label=True,\n",
    "            allow_repeated_source=True,\n",
    "            reverb=0.1,\n",
    "            disable_sox_warnings=True,\n",
    "            no_audio=False,\n",
    "            txt_path=txtfile)"
   ]
  },
  {
   "cell_type": "code",
   "execution_count": 87,
   "metadata": {},
   "outputs": [],
   "source": [
    "# convert a csv file to a pandas dataframe\n",
    "import pandas as pd\n",
    "import numpy as np\n",
    "import os\n",
    "import csv\n",
    "import librosa\n",
    "import librosa.display\n",
    "\n",
    "\n",
    "# read the csv file\n",
    "df = pd.read_csv('/Users/dilipharish/Master-Thesis/scaper-master/outputfiles/mysoundscape.txt', sep='\\t', header=None)\n",
    "\n",
    "# convert the dataframe to a numpy array\n",
    "data = df.values\n"
   ]
  },
  {
   "cell_type": "code",
   "execution_count": 88,
   "metadata": {},
   "outputs": [
    {
     "name": "stdout",
     "output_type": "stream",
     "text": [
      "[[7.876380431650431 10.0 'children_playing']]\n"
     ]
    }
   ],
   "source": [
    "print(data)"
   ]
  },
  {
   "cell_type": "code",
   "execution_count": null,
   "metadata": {},
   "outputs": [],
   "source": []
  }
 ],
 "metadata": {
  "kernelspec": {
   "display_name": "Python 3",
   "language": "python",
   "name": "python3"
  },
  "language_info": {
   "codemirror_mode": {
    "name": "ipython",
    "version": 3
   },
   "file_extension": ".py",
   "mimetype": "text/x-python",
   "name": "python",
   "nbconvert_exporter": "python",
   "pygments_lexer": "ipython3",
   "version": "3.7.16"
  },
  "orig_nbformat": 4
 },
 "nbformat": 4,
 "nbformat_minor": 2
}
