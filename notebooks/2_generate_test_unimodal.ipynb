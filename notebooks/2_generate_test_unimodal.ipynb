{
 "cells": [
  {
   "cell_type": "code",
   "execution_count": 1,
   "metadata": {
    "collapsed": true,
    "deletable": true,
    "editable": true
   },
   "outputs": [],
   "source": [
    "import numpy as np\n",
    "np.random.seed(123)\n",
    "import scaper\n",
    "import os"
   ]
  },
  {
   "cell_type": "code",
   "execution_count": 2,
   "metadata": {
    "collapsed": true,
    "deletable": true,
    "editable": true
   },
   "outputs": [
    {
     "ename": "FileNotFoundError",
     "evalue": "[Errno 2] No such file or directory: '/scratch/js7561/datasets/scaper_waspaa2017/audio/soundscapes/test/unimodal'",
     "output_type": "error",
     "traceback": [
      "\u001b[0;31m---------------------------------------------------------------------------\u001b[0m",
      "\u001b[0;31mFileNotFoundError\u001b[0m                         Traceback (most recent call last)",
      "\u001b[0;32m/var/folders/jh/8qnr5mvd3rlc1zcpbx5xqb_h0000gn/T/ipykernel_18563/3565223099.py\u001b[0m in \u001b[0;36m<module>\u001b[0;34m\u001b[0m\n\u001b[1;32m     39\u001b[0m \u001b[0moutfolder\u001b[0m \u001b[0;34m=\u001b[0m \u001b[0mos\u001b[0m\u001b[0;34m.\u001b[0m\u001b[0mpath\u001b[0m\u001b[0;34m.\u001b[0m\u001b[0mjoin\u001b[0m\u001b[0;34m(\u001b[0m\u001b[0;34m'/scratch/js7561/datasets/scaper_waspaa2017/audio/soundscapes/test/unimodal'\u001b[0m\u001b[0;34m)\u001b[0m\u001b[0;34m\u001b[0m\u001b[0;34m\u001b[0m\u001b[0m\n\u001b[1;32m     40\u001b[0m \u001b[0;32mif\u001b[0m \u001b[0;32mnot\u001b[0m \u001b[0mos\u001b[0m\u001b[0;34m.\u001b[0m\u001b[0mpath\u001b[0m\u001b[0;34m.\u001b[0m\u001b[0misdir\u001b[0m\u001b[0;34m(\u001b[0m\u001b[0moutfolder\u001b[0m\u001b[0;34m)\u001b[0m\u001b[0;34m:\u001b[0m\u001b[0;34m\u001b[0m\u001b[0;34m\u001b[0m\u001b[0m\n\u001b[0;32m---> 41\u001b[0;31m     \u001b[0mos\u001b[0m\u001b[0;34m.\u001b[0m\u001b[0mmkdir\u001b[0m\u001b[0;34m(\u001b[0m\u001b[0moutfolder\u001b[0m\u001b[0;34m)\u001b[0m\u001b[0;34m\u001b[0m\u001b[0;34m\u001b[0m\u001b[0m\n\u001b[0m",
      "\u001b[0;31mFileNotFoundError\u001b[0m: [Errno 2] No such file or directory: '/scratch/js7561/datasets/scaper_waspaa2017/audio/soundscapes/test/unimodal'"
     ]
    }
   ],
   "source": [
    "# SCAPER SETTINGS\n",
    "fg_folder = '/scratch/js7561/datasets/scaper_waspaa2017/audio/soundbanks/test/foreground/'\n",
    "bg_folder = '/scratch/js7561/datasets/scaper_waspaa2017/audio/soundbanks/test/background/'\n",
    "\n",
    "n_soundscapes = 20\n",
    "ref_db = -50\n",
    "duration = 10.0 \n",
    "\n",
    "min_events = 1\n",
    "max_events = 9\n",
    "\n",
    "event_time_dist = 'truncnorm'\n",
    "event_time_mean = 5.0\n",
    "event_time_std = 2.0\n",
    "event_time_min = 0.0\n",
    "event_time_max = 10.0\n",
    "\n",
    "source_time_dist = 'const'\n",
    "source_time = 0.0\n",
    "\n",
    "event_duration_dist = 'uniform'\n",
    "event_duration_min = 0.5\n",
    "event_duration_max = 4.0\n",
    "\n",
    "snr_dist = 'uniform'\n",
    "snr_min = 6\n",
    "snr_max = 30\n",
    "\n",
    "pitch_dist = 'uniform'\n",
    "pitch_min = -3.0\n",
    "pitch_max = 3.0\n",
    "\n",
    "time_stretch_dist = 'uniform'\n",
    "time_stretch_min = 0.8\n",
    "time_stretch_max = 1.2\n",
    "\n",
    "\n",
    "# FILE SETTINGS\n",
    "outfolder = os.path.join('/scratch/js7561/datasets/scaper_waspaa2017/audio/soundscapes/test/unimodal')\n",
    "if not os.path.isdir(outfolder):\n",
    "    os.mkdir(outfolder)"
   ]
  },
  {
   "cell_type": "code",
   "execution_count": 3,
   "metadata": {
    "collapsed": false,
    "deletable": true,
    "editable": true,
    "scrolled": true
   },
   "outputs": [
    {
     "name": "stdout",
     "output_type": "stream",
     "text": [
      "Generating soundscape: 1/20\n"
     ]
    },
    {
     "ename": "ScaperError",
     "evalue": "Folder path \"/scratch/js7561/datasets/scaper_waspaa2017/audio/soundbanks/test/foreground/\" does not point to a valid folder",
     "output_type": "error",
     "traceback": [
      "\u001b[0;31m---------------------------------------------------------------------------\u001b[0m",
      "\u001b[0;31mScaperError\u001b[0m                               Traceback (most recent call last)",
      "\u001b[0;32m/var/folders/jh/8qnr5mvd3rlc1zcpbx5xqb_h0000gn/T/ipykernel_18563/1002070066.py\u001b[0m in \u001b[0;36m<module>\u001b[0;34m\u001b[0m\n\u001b[1;32m      6\u001b[0m \u001b[0;34m\u001b[0m\u001b[0m\n\u001b[1;32m      7\u001b[0m     \u001b[0;31m# create a scaper\u001b[0m\u001b[0;34m\u001b[0m\u001b[0;34m\u001b[0m\u001b[0;34m\u001b[0m\u001b[0m\n\u001b[0;32m----> 8\u001b[0;31m     \u001b[0msc\u001b[0m \u001b[0;34m=\u001b[0m \u001b[0mscaper\u001b[0m\u001b[0;34m.\u001b[0m\u001b[0mScaper\u001b[0m\u001b[0;34m(\u001b[0m\u001b[0mduration\u001b[0m\u001b[0;34m,\u001b[0m \u001b[0mfg_folder\u001b[0m\u001b[0;34m,\u001b[0m \u001b[0mbg_folder\u001b[0m\u001b[0;34m)\u001b[0m\u001b[0;34m\u001b[0m\u001b[0;34m\u001b[0m\u001b[0m\n\u001b[0m\u001b[1;32m      9\u001b[0m     \u001b[0msc\u001b[0m\u001b[0;34m.\u001b[0m\u001b[0mprotected_labels\u001b[0m \u001b[0;34m=\u001b[0m \u001b[0;34m[\u001b[0m\u001b[0;34m]\u001b[0m\u001b[0;34m\u001b[0m\u001b[0;34m\u001b[0m\u001b[0m\n\u001b[1;32m     10\u001b[0m     \u001b[0msc\u001b[0m\u001b[0;34m.\u001b[0m\u001b[0mref_db\u001b[0m \u001b[0;34m=\u001b[0m \u001b[0mref_db\u001b[0m\u001b[0;34m\u001b[0m\u001b[0;34m\u001b[0m\u001b[0m\n",
      "\u001b[0;32m~/Master-Thesis/scaper-master/scaper/core.py\u001b[0m in \u001b[0;36m__init__\u001b[0;34m(self, duration, fg_path, bg_path, protected_labels, random_state)\u001b[0m\n\u001b[1;32m   1071\u001b[0m         \u001b[0mexpanded_fg_path\u001b[0m \u001b[0;34m=\u001b[0m \u001b[0mos\u001b[0m\u001b[0;34m.\u001b[0m\u001b[0mpath\u001b[0m\u001b[0;34m.\u001b[0m\u001b[0mexpanduser\u001b[0m\u001b[0;34m(\u001b[0m\u001b[0mfg_path\u001b[0m\u001b[0;34m)\u001b[0m\u001b[0;34m\u001b[0m\u001b[0;34m\u001b[0m\u001b[0m\n\u001b[1;32m   1072\u001b[0m         \u001b[0mexpanded_bg_path\u001b[0m \u001b[0;34m=\u001b[0m \u001b[0mos\u001b[0m\u001b[0;34m.\u001b[0m\u001b[0mpath\u001b[0m\u001b[0;34m.\u001b[0m\u001b[0mexpanduser\u001b[0m\u001b[0;34m(\u001b[0m\u001b[0mbg_path\u001b[0m\u001b[0;34m)\u001b[0m\u001b[0;34m\u001b[0m\u001b[0;34m\u001b[0m\u001b[0m\n\u001b[0;32m-> 1073\u001b[0;31m         \u001b[0m_validate_folder_path\u001b[0m\u001b[0;34m(\u001b[0m\u001b[0mexpanded_fg_path\u001b[0m\u001b[0;34m)\u001b[0m\u001b[0;34m\u001b[0m\u001b[0;34m\u001b[0m\u001b[0m\n\u001b[0m\u001b[1;32m   1074\u001b[0m         \u001b[0m_validate_folder_path\u001b[0m\u001b[0;34m(\u001b[0m\u001b[0mexpanded_bg_path\u001b[0m\u001b[0;34m)\u001b[0m\u001b[0;34m\u001b[0m\u001b[0;34m\u001b[0m\u001b[0m\n\u001b[1;32m   1075\u001b[0m         \u001b[0mself\u001b[0m\u001b[0;34m.\u001b[0m\u001b[0mfg_path\u001b[0m \u001b[0;34m=\u001b[0m \u001b[0mexpanded_fg_path\u001b[0m\u001b[0;34m\u001b[0m\u001b[0;34m\u001b[0m\u001b[0m\n",
      "\u001b[0;32m~/Master-Thesis/scaper-master/scaper/util.py\u001b[0m in \u001b[0;36m_validate_folder_path\u001b[0;34m(folder_path)\u001b[0m\n\u001b[1;32m    114\u001b[0m         raise ScaperError(\n\u001b[1;32m    115\u001b[0m             'Folder path \"{:s}\" does not point to a valid folder'.format(\n\u001b[0;32m--> 116\u001b[0;31m                 str(folder_path)))\n\u001b[0m\u001b[1;32m    117\u001b[0m \u001b[0;34m\u001b[0m\u001b[0m\n\u001b[1;32m    118\u001b[0m \u001b[0;34m\u001b[0m\u001b[0m\n",
      "\u001b[0;31mScaperError\u001b[0m: Folder path \"/scratch/js7561/datasets/scaper_waspaa2017/audio/soundbanks/test/foreground/\" does not point to a valid folder"
     ]
    }
   ],
   "source": [
    "# Generate 667 soundscapes using a UNIFORM distribution of start times\n",
    "\n",
    "for n in range(n_soundscapes):\n",
    "    \n",
    "    print('Generating soundscape: {:d}/{:d}'.format(n+1, n_soundscapes))\n",
    "    \n",
    "    # create a scaper\n",
    "    sc = scaper.Scaper(duration, fg_folder, bg_folder)\n",
    "    sc.protected_labels = []\n",
    "    sc.ref_db = ref_db\n",
    "    \n",
    "    # add background\n",
    "    sc.add_background(label=('const', 'noise'), \n",
    "                      source_file=('choose', []), \n",
    "                      source_time=('const', 0))\n",
    "\n",
    "    # add random foreground events\n",
    "    n_events = np.random.randint(min_events, max_events+1)\n",
    "    for _ in range(n_events):\n",
    "        sc.add_event(label=('choose', []), \n",
    "                     source_file=('choose', []), \n",
    "                     source_time=(source_time_dist, source_time), \n",
    "                     event_time=(event_time_dist, event_time_mean, event_time_std, event_time_min, event_time_max), \n",
    "                     event_duration=(event_duration_dist, event_duration_min, event_duration_max), \n",
    "                     snr=(snr_dist, snr_min, snr_max),\n",
    "                     pitch_shift=(pitch_dist, pitch_min, pitch_max),\n",
    "                     time_stretch=(time_stretch_dist, time_stretch_min, time_stretch_max))\n",
    "    \n",
    "    # generate\n",
    "    audiofile = os.path.join(outfolder, \"soundscape_test_unimodal{:d}.wav\".format(n))\n",
    "    jamsfile = os.path.join(outfolder, \"soundscape_test_unimodal{:d}.jams\".format(n))\n",
    "    txtfile = os.path.join(outfolder, \"soundscape_test_unimodal{:d}.txt\".format(n))\n",
    "    \n",
    "    sc.generate(audiofile, jamsfile,\n",
    "                allow_repeated_label=True,\n",
    "                allow_repeated_source=False,\n",
    "                reverb=0.1,\n",
    "                disable_sox_warnings=True,\n",
    "                no_audio=False,\n",
    "                txt_path=txtfile)"
   ]
  },
  {
   "cell_type": "code",
   "execution_count": null,
   "metadata": {
    "collapsed": true,
    "deletable": true,
    "editable": true
   },
   "outputs": [],
   "source": []
  }
 ],
 "metadata": {
  "kernelspec": {
   "display_name": "Python 3",
   "language": "python",
   "name": "python3"
  },
  "language_info": {
   "codemirror_mode": {
    "name": "ipython",
    "version": 3
   },
   "file_extension": ".py",
   "mimetype": "text/x-python",
   "name": "python",
   "nbconvert_exporter": "python",
   "pygments_lexer": "ipython3",
   "version": "3.7.16"
  }
 },
 "nbformat": 4,
 "nbformat_minor": 2
}
