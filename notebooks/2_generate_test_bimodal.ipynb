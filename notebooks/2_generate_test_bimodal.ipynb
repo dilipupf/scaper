{
 "cells": [
  {
   "cell_type": "code",
   "execution_count": 13,
   "metadata": {
    "collapsed": true,
    "deletable": true,
    "editable": true
   },
   "outputs": [],
   "source": [
    "import numpy as np\n",
    "np.random.seed(123)\n",
    "import scaper\n",
    "import os"
   ]
  },
  {
   "cell_type": "code",
   "execution_count": 15,
   "metadata": {
    "collapsed": true,
    "deletable": true,
    "editable": true
   },
   "outputs": [],
   "source": [
    "# SCAPER SETTINGS\n",
    "fg_folder = '/Users/dilipharish/Master-Thesis/scaper-master/datasets/soundbanks/test/foreground/'\n",
    "bg_folder = '/Users/dilipharish/Master-Thesis/scaper-master/datasets/soundbanks/test/background/'\n",
    "\n",
    "n_soundscapes = 20\n",
    "ref_db = -50\n",
    "duration = 10.0 \n",
    "\n",
    "min_events = 1\n",
    "max_events = 9\n",
    "\n",
    "event_time_dist = 'truncnorm'\n",
    "event_time_mean1 = 3.0\n",
    "event_time_mean2 = 7.0\n",
    "event_time_std = 2.0\n",
    "event_time_min = 0.0\n",
    "event_time_max = 10.0\n",
    "\n",
    "source_time_dist = 'const'\n",
    "source_time = 0.0\n",
    "\n",
    "event_duration_dist = 'uniform'\n",
    "event_duration_min = 0.5\n",
    "event_duration_max = 4.0\n",
    "\n",
    "snr_dist = 'uniform'\n",
    "snr_min = 6\n",
    "snr_max = 30\n",
    "\n",
    "pitch_dist = 'uniform'\n",
    "pitch_min = -3.0\n",
    "pitch_max = 3.0\n",
    "\n",
    "time_stretch_dist = 'uniform'\n",
    "time_stretch_min = 0.8\n",
    "time_stretch_max = 1.2\n",
    "\n",
    "\n",
    "# FILE SETTINGS\n",
    "# outfolder = os.path.join('/scratch/js7561/datasets/scaper_waspaa2017/audio/soundscapes/test/bimodal')\n",
    "outfolder = os.path.join('/Users/dilipharish/Master-Thesis/scaper-master/audio/soundscapes/test/bimodal')\n",
    "if not os.path.isdir(outfolder):\n",
    "    os.mkdir(outfolder)"
   ]
  },
  {
   "cell_type": "code",
   "execution_count": 16,
   "metadata": {
    "collapsed": false,
    "deletable": true,
    "editable": true,
    "scrolled": true
   },
   "outputs": [
    {
     "name": "stdout",
     "output_type": "stream",
     "text": [
      "Generating soundscape: 1/20\n"
     ]
    },
    {
     "ename": "ValueError",
     "evalue": "high <= 0",
     "output_type": "error",
     "traceback": [
      "\u001b[0;31m---------------------------------------------------------------------------\u001b[0m",
      "\u001b[0;31mValueError\u001b[0m                                Traceback (most recent call last)",
      "\u001b[0;32m/var/folders/jh/8qnr5mvd3rlc1zcpbx5xqb_h0000gn/T/ipykernel_23888/3561940182.py\u001b[0m in \u001b[0;36m<module>\u001b[0;34m\u001b[0m\n\u001b[1;32m     45\u001b[0m                 \u001b[0mdisable_sox_warnings\u001b[0m\u001b[0;34m=\u001b[0m\u001b[0;32mTrue\u001b[0m\u001b[0;34m,\u001b[0m\u001b[0;34m\u001b[0m\u001b[0;34m\u001b[0m\u001b[0m\n\u001b[1;32m     46\u001b[0m                 \u001b[0mno_audio\u001b[0m\u001b[0;34m=\u001b[0m\u001b[0;32mFalse\u001b[0m\u001b[0;34m,\u001b[0m\u001b[0;34m\u001b[0m\u001b[0;34m\u001b[0m\u001b[0m\n\u001b[0;32m---> 47\u001b[0;31m                 txt_path=txtfile)\n\u001b[0m",
      "\u001b[0;32m~/Master-Thesis/scaper-master/scaper37env/lib/python3.7/site-packages/scaper/core.py\u001b[0m in \u001b[0;36mgenerate\u001b[0;34m(self, audio_path, jams_path, allow_repeated_label, allow_repeated_source, reverb, fix_clipping, peak_normalization, quick_pitch_time, save_isolated_events, isolated_events_path, disable_sox_warnings, no_audio, txt_path, txt_sep, disable_instantiation_warnings)\u001b[0m\n\u001b[1;32m   2317\u001b[0m             \u001b[0mallow_repeated_source\u001b[0m\u001b[0;34m=\u001b[0m\u001b[0mallow_repeated_source\u001b[0m\u001b[0;34m,\u001b[0m\u001b[0;34m\u001b[0m\u001b[0;34m\u001b[0m\u001b[0m\n\u001b[1;32m   2318\u001b[0m             \u001b[0mreverb\u001b[0m\u001b[0;34m=\u001b[0m\u001b[0mreverb\u001b[0m\u001b[0;34m,\u001b[0m\u001b[0;34m\u001b[0m\u001b[0;34m\u001b[0m\u001b[0m\n\u001b[0;32m-> 2319\u001b[0;31m             disable_instantiation_warnings=disable_instantiation_warnings)\n\u001b[0m\u001b[1;32m   2320\u001b[0m         \u001b[0mann\u001b[0m \u001b[0;34m=\u001b[0m \u001b[0msoundscape_jam\u001b[0m\u001b[0;34m.\u001b[0m\u001b[0mannotations\u001b[0m\u001b[0;34m.\u001b[0m\u001b[0msearch\u001b[0m\u001b[0;34m(\u001b[0m\u001b[0mnamespace\u001b[0m\u001b[0;34m=\u001b[0m\u001b[0;34m'scaper'\u001b[0m\u001b[0;34m)\u001b[0m\u001b[0;34m[\u001b[0m\u001b[0;36m0\u001b[0m\u001b[0;34m]\u001b[0m\u001b[0;34m\u001b[0m\u001b[0;34m\u001b[0m\u001b[0m\n\u001b[1;32m   2321\u001b[0m \u001b[0;34m\u001b[0m\u001b[0m\n",
      "\u001b[0;32m~/Master-Thesis/scaper-master/scaper37env/lib/python3.7/site-packages/scaper/core.py\u001b[0m in \u001b[0;36m_instantiate\u001b[0;34m(self, allow_repeated_label, allow_repeated_source, reverb, disable_instantiation_warnings)\u001b[0m\n\u001b[1;32m   1717\u001b[0m                 \u001b[0mused_labels\u001b[0m\u001b[0;34m=\u001b[0m\u001b[0mbg_labels\u001b[0m\u001b[0;34m,\u001b[0m\u001b[0;34m\u001b[0m\u001b[0;34m\u001b[0m\u001b[0m\n\u001b[1;32m   1718\u001b[0m                 \u001b[0mused_source_files\u001b[0m\u001b[0;34m=\u001b[0m\u001b[0mbg_source_files\u001b[0m\u001b[0;34m,\u001b[0m\u001b[0;34m\u001b[0m\u001b[0;34m\u001b[0m\u001b[0m\n\u001b[0;32m-> 1719\u001b[0;31m                 disable_instantiation_warnings=disable_instantiation_warnings)\n\u001b[0m\u001b[1;32m   1720\u001b[0m \u001b[0;34m\u001b[0m\u001b[0m\n\u001b[1;32m   1721\u001b[0m             \u001b[0;31m# Note: add_background doesn't allow to set a time_stretch, i.e.\u001b[0m\u001b[0;34m\u001b[0m\u001b[0;34m\u001b[0m\u001b[0;34m\u001b[0m\u001b[0m\n",
      "\u001b[0;32m~/Master-Thesis/scaper-master/scaper37env/lib/python3.7/site-packages/scaper/core.py\u001b[0m in \u001b[0;36m_instantiate_event\u001b[0;34m(self, event, isbackground, allow_repeated_label, allow_repeated_source, used_labels, used_source_files, disable_instantiation_warnings)\u001b[0m\n\u001b[1;32m   1452\u001b[0m             \u001b[0msource_file_tuple\u001b[0m \u001b[0;34m=\u001b[0m \u001b[0mevent\u001b[0m\u001b[0;34m.\u001b[0m\u001b[0msource_file\u001b[0m\u001b[0;34m\u001b[0m\u001b[0;34m\u001b[0m\u001b[0m\n\u001b[1;32m   1453\u001b[0m \u001b[0;34m\u001b[0m\u001b[0m\n\u001b[0;32m-> 1454\u001b[0;31m         \u001b[0msource_file\u001b[0m \u001b[0;34m=\u001b[0m \u001b[0m_get_value_from_dist\u001b[0m\u001b[0;34m(\u001b[0m\u001b[0msource_file_tuple\u001b[0m\u001b[0;34m,\u001b[0m \u001b[0mself\u001b[0m\u001b[0;34m.\u001b[0m\u001b[0mrandom_state\u001b[0m\u001b[0;34m)\u001b[0m\u001b[0;34m\u001b[0m\u001b[0;34m\u001b[0m\u001b[0m\n\u001b[0m\u001b[1;32m   1455\u001b[0m \u001b[0;34m\u001b[0m\u001b[0m\n\u001b[1;32m   1456\u001b[0m         \u001b[0;31m# Make sure we can use this source file\u001b[0m\u001b[0;34m\u001b[0m\u001b[0;34m\u001b[0m\u001b[0;34m\u001b[0m\u001b[0m\n",
      "\u001b[0;32m~/Master-Thesis/scaper-master/scaper37env/lib/python3.7/site-packages/scaper/core.py\u001b[0m in \u001b[0;36m_get_value_from_dist\u001b[0;34m(dist_tuple, random_state)\u001b[0m\n\u001b[1;32m    422\u001b[0m     \u001b[0;31m# Make sure it's a valid distribution tuple\u001b[0m\u001b[0;34m\u001b[0m\u001b[0;34m\u001b[0m\u001b[0;34m\u001b[0m\u001b[0m\n\u001b[1;32m    423\u001b[0m     \u001b[0m_validate_distribution\u001b[0m\u001b[0;34m(\u001b[0m\u001b[0mdist_tuple\u001b[0m\u001b[0;34m)\u001b[0m\u001b[0;34m\u001b[0m\u001b[0;34m\u001b[0m\u001b[0m\n\u001b[0;32m--> 424\u001b[0;31m     \u001b[0;32mreturn\u001b[0m \u001b[0mSUPPORTED_DIST\u001b[0m\u001b[0;34m[\u001b[0m\u001b[0mdist_tuple\u001b[0m\u001b[0;34m[\u001b[0m\u001b[0;36m0\u001b[0m\u001b[0;34m]\u001b[0m\u001b[0;34m]\u001b[0m\u001b[0;34m(\u001b[0m\u001b[0;34m*\u001b[0m\u001b[0mdist_tuple\u001b[0m\u001b[0;34m[\u001b[0m\u001b[0;36m1\u001b[0m\u001b[0;34m:\u001b[0m\u001b[0;34m]\u001b[0m\u001b[0;34m,\u001b[0m \u001b[0mrandom_state\u001b[0m\u001b[0;34m=\u001b[0m\u001b[0mrandom_state\u001b[0m\u001b[0;34m)\u001b[0m\u001b[0;34m\u001b[0m\u001b[0;34m\u001b[0m\u001b[0m\n\u001b[0m\u001b[1;32m    425\u001b[0m \u001b[0;34m\u001b[0m\u001b[0m\n\u001b[1;32m    426\u001b[0m \u001b[0;34m\u001b[0m\u001b[0m\n",
      "\u001b[0;32m~/Master-Thesis/scaper-master/scaper37env/lib/python3.7/site-packages/scaper/util.py\u001b[0m in \u001b[0;36m_sample_choose\u001b[0;34m(list_of_options, random_state)\u001b[0m\n\u001b[1;32m    268\u001b[0m             \u001b[0;34m'from {:d} to {:d}'\u001b[0m\u001b[0;34m.\u001b[0m\u001b[0mformat\u001b[0m\u001b[0;34m(\u001b[0m\u001b[0mlen\u001b[0m\u001b[0;34m(\u001b[0m\u001b[0mlist_of_options\u001b[0m\u001b[0;34m)\u001b[0m\u001b[0;34m,\u001b[0m \u001b[0mlen\u001b[0m\u001b[0;34m(\u001b[0m\u001b[0mnew_list_of_options\u001b[0m\u001b[0;34m)\u001b[0m\u001b[0;34m)\u001b[0m\u001b[0;34m,\u001b[0m\u001b[0;34m\u001b[0m\u001b[0;34m\u001b[0m\u001b[0m\n\u001b[1;32m    269\u001b[0m             ScaperWarning)\n\u001b[0;32m--> 270\u001b[0;31m     \u001b[0mindex\u001b[0m \u001b[0;34m=\u001b[0m \u001b[0mrandom_state\u001b[0m\u001b[0;34m.\u001b[0m\u001b[0mrandint\u001b[0m\u001b[0;34m(\u001b[0m\u001b[0mlen\u001b[0m\u001b[0;34m(\u001b[0m\u001b[0mnew_list_of_options\u001b[0m\u001b[0;34m)\u001b[0m\u001b[0;34m)\u001b[0m\u001b[0;34m\u001b[0m\u001b[0;34m\u001b[0m\u001b[0m\n\u001b[0m\u001b[1;32m    271\u001b[0m     \u001b[0;32mreturn\u001b[0m \u001b[0mnew_list_of_options\u001b[0m\u001b[0;34m[\u001b[0m\u001b[0mindex\u001b[0m\u001b[0;34m]\u001b[0m\u001b[0;34m\u001b[0m\u001b[0;34m\u001b[0m\u001b[0m\n\u001b[1;32m    272\u001b[0m \u001b[0;34m\u001b[0m\u001b[0m\n",
      "\u001b[0;32mmtrand.pyx\u001b[0m in \u001b[0;36mnumpy.random.mtrand.RandomState.randint\u001b[0;34m()\u001b[0m\n",
      "\u001b[0;32m_bounded_integers.pyx\u001b[0m in \u001b[0;36mnumpy.random._bounded_integers._rand_int64\u001b[0;34m()\u001b[0m\n",
      "\u001b[0;31mValueError\u001b[0m: high <= 0"
     ]
    }
   ],
   "source": [
    "# Generate 20 soundscapes using a BIMODAL distribution of start times\n",
    "\n",
    "for n in range(n_soundscapes):\n",
    "    \n",
    "    print('Generating soundscape: {:d}/{:d}'.format(n+1, n_soundscapes))\n",
    "    \n",
    "    # create a scaper\n",
    "    sc = scaper.Scaper(duration, fg_folder, bg_folder)\n",
    "    sc.protected_labels = []\n",
    "    sc.ref_db = ref_db\n",
    "    \n",
    "    # add background\n",
    "    sc.add_background(label=('const', 'noise'), \n",
    "                      source_file=('choose', []), \n",
    "                      source_time=('const', 0))\n",
    "\n",
    "    # add random foreground events\n",
    "    n_events = np.random.randint(min_events, max_events+1)\n",
    "    for _ in range(n_events):\n",
    "        \n",
    "        coin = np.random.randint(0, 2)\n",
    "        if coin==0:\n",
    "            mu = event_time_mean1\n",
    "        else:\n",
    "            mu = event_time_mean2\n",
    "            \n",
    "        sc.add_event(label=('choose', []), \n",
    "                     source_file=('choose', []), \n",
    "                     source_time=(source_time_dist, source_time), \n",
    "                     event_time=(event_time_dist, mu, event_time_std, event_time_min, event_time_max), \n",
    "                     event_duration=(event_duration_dist, event_duration_min, event_duration_max), \n",
    "                     snr=(snr_dist, snr_min, snr_max),\n",
    "                     pitch_shift=(pitch_dist, pitch_min, pitch_max),\n",
    "                     time_stretch=(time_stretch_dist, time_stretch_min, time_stretch_max))\n",
    "    \n",
    "    # generate\n",
    "    audiofile = os.path.join(outfolder, \"soundscape_test_bimodal{:d}.wav\".format(n))\n",
    "    jamsfile = os.path.join(outfolder, \"soundscape_test_bimodal{:d}.jams\".format(n))\n",
    "    txtfile = os.path.join(outfolder, \"soundscape_test_bimodal{:d}.txt\".format(n))\n",
    "    \n",
    "    sc.generate(audiofile, jamsfile,\n",
    "                allow_repeated_label=True,\n",
    "                allow_repeated_source=False,\n",
    "                reverb=0.1,\n",
    "                disable_sox_warnings=True,\n",
    "                no_audio=False,\n",
    "                txt_path=txtfile)"
   ]
  },
  {
   "cell_type": "code",
   "execution_count": 17,
   "metadata": {},
   "outputs": [
    {
     "name": "stdout",
     "output_type": "stream",
     "text": [
      "Generating soundscape: 1/20\n"
     ]
    },
    {
     "ename": "ValueError",
     "evalue": "high <= 0",
     "output_type": "error",
     "traceback": [
      "\u001b[0;31m---------------------------------------------------------------------------\u001b[0m",
      "\u001b[0;31mValueError\u001b[0m                                Traceback (most recent call last)",
      "\u001b[0;32m/var/folders/jh/8qnr5mvd3rlc1zcpbx5xqb_h0000gn/T/ipykernel_23888/3561940182.py\u001b[0m in \u001b[0;36m<module>\u001b[0;34m\u001b[0m\n\u001b[1;32m     45\u001b[0m                 \u001b[0mdisable_sox_warnings\u001b[0m\u001b[0;34m=\u001b[0m\u001b[0;32mTrue\u001b[0m\u001b[0;34m,\u001b[0m\u001b[0;34m\u001b[0m\u001b[0;34m\u001b[0m\u001b[0m\n\u001b[1;32m     46\u001b[0m                 \u001b[0mno_audio\u001b[0m\u001b[0;34m=\u001b[0m\u001b[0;32mFalse\u001b[0m\u001b[0;34m,\u001b[0m\u001b[0;34m\u001b[0m\u001b[0;34m\u001b[0m\u001b[0m\n\u001b[0;32m---> 47\u001b[0;31m                 txt_path=txtfile)\n\u001b[0m",
      "\u001b[0;32m~/Master-Thesis/scaper-master/scaper37env/lib/python3.7/site-packages/scaper/core.py\u001b[0m in \u001b[0;36mgenerate\u001b[0;34m(self, audio_path, jams_path, allow_repeated_label, allow_repeated_source, reverb, fix_clipping, peak_normalization, quick_pitch_time, save_isolated_events, isolated_events_path, disable_sox_warnings, no_audio, txt_path, txt_sep, disable_instantiation_warnings)\u001b[0m\n\u001b[1;32m   2317\u001b[0m             \u001b[0mallow_repeated_source\u001b[0m\u001b[0;34m=\u001b[0m\u001b[0mallow_repeated_source\u001b[0m\u001b[0;34m,\u001b[0m\u001b[0;34m\u001b[0m\u001b[0;34m\u001b[0m\u001b[0m\n\u001b[1;32m   2318\u001b[0m             \u001b[0mreverb\u001b[0m\u001b[0;34m=\u001b[0m\u001b[0mreverb\u001b[0m\u001b[0;34m,\u001b[0m\u001b[0;34m\u001b[0m\u001b[0;34m\u001b[0m\u001b[0m\n\u001b[0;32m-> 2319\u001b[0;31m             disable_instantiation_warnings=disable_instantiation_warnings)\n\u001b[0m\u001b[1;32m   2320\u001b[0m         \u001b[0mann\u001b[0m \u001b[0;34m=\u001b[0m \u001b[0msoundscape_jam\u001b[0m\u001b[0;34m.\u001b[0m\u001b[0mannotations\u001b[0m\u001b[0;34m.\u001b[0m\u001b[0msearch\u001b[0m\u001b[0;34m(\u001b[0m\u001b[0mnamespace\u001b[0m\u001b[0;34m=\u001b[0m\u001b[0;34m'scaper'\u001b[0m\u001b[0;34m)\u001b[0m\u001b[0;34m[\u001b[0m\u001b[0;36m0\u001b[0m\u001b[0;34m]\u001b[0m\u001b[0;34m\u001b[0m\u001b[0;34m\u001b[0m\u001b[0m\n\u001b[1;32m   2321\u001b[0m \u001b[0;34m\u001b[0m\u001b[0m\n",
      "\u001b[0;32m~/Master-Thesis/scaper-master/scaper37env/lib/python3.7/site-packages/scaper/core.py\u001b[0m in \u001b[0;36m_instantiate\u001b[0;34m(self, allow_repeated_label, allow_repeated_source, reverb, disable_instantiation_warnings)\u001b[0m\n\u001b[1;32m   1717\u001b[0m                 \u001b[0mused_labels\u001b[0m\u001b[0;34m=\u001b[0m\u001b[0mbg_labels\u001b[0m\u001b[0;34m,\u001b[0m\u001b[0;34m\u001b[0m\u001b[0;34m\u001b[0m\u001b[0m\n\u001b[1;32m   1718\u001b[0m                 \u001b[0mused_source_files\u001b[0m\u001b[0;34m=\u001b[0m\u001b[0mbg_source_files\u001b[0m\u001b[0;34m,\u001b[0m\u001b[0;34m\u001b[0m\u001b[0;34m\u001b[0m\u001b[0m\n\u001b[0;32m-> 1719\u001b[0;31m                 disable_instantiation_warnings=disable_instantiation_warnings)\n\u001b[0m\u001b[1;32m   1720\u001b[0m \u001b[0;34m\u001b[0m\u001b[0m\n\u001b[1;32m   1721\u001b[0m             \u001b[0;31m# Note: add_background doesn't allow to set a time_stretch, i.e.\u001b[0m\u001b[0;34m\u001b[0m\u001b[0;34m\u001b[0m\u001b[0;34m\u001b[0m\u001b[0m\n",
      "\u001b[0;32m~/Master-Thesis/scaper-master/scaper37env/lib/python3.7/site-packages/scaper/core.py\u001b[0m in \u001b[0;36m_instantiate_event\u001b[0;34m(self, event, isbackground, allow_repeated_label, allow_repeated_source, used_labels, used_source_files, disable_instantiation_warnings)\u001b[0m\n\u001b[1;32m   1452\u001b[0m             \u001b[0msource_file_tuple\u001b[0m \u001b[0;34m=\u001b[0m \u001b[0mevent\u001b[0m\u001b[0;34m.\u001b[0m\u001b[0msource_file\u001b[0m\u001b[0;34m\u001b[0m\u001b[0;34m\u001b[0m\u001b[0m\n\u001b[1;32m   1453\u001b[0m \u001b[0;34m\u001b[0m\u001b[0m\n\u001b[0;32m-> 1454\u001b[0;31m         \u001b[0msource_file\u001b[0m \u001b[0;34m=\u001b[0m \u001b[0m_get_value_from_dist\u001b[0m\u001b[0;34m(\u001b[0m\u001b[0msource_file_tuple\u001b[0m\u001b[0;34m,\u001b[0m \u001b[0mself\u001b[0m\u001b[0;34m.\u001b[0m\u001b[0mrandom_state\u001b[0m\u001b[0;34m)\u001b[0m\u001b[0;34m\u001b[0m\u001b[0;34m\u001b[0m\u001b[0m\n\u001b[0m\u001b[1;32m   1455\u001b[0m \u001b[0;34m\u001b[0m\u001b[0m\n\u001b[1;32m   1456\u001b[0m         \u001b[0;31m# Make sure we can use this source file\u001b[0m\u001b[0;34m\u001b[0m\u001b[0;34m\u001b[0m\u001b[0;34m\u001b[0m\u001b[0m\n",
      "\u001b[0;32m~/Master-Thesis/scaper-master/scaper37env/lib/python3.7/site-packages/scaper/core.py\u001b[0m in \u001b[0;36m_get_value_from_dist\u001b[0;34m(dist_tuple, random_state)\u001b[0m\n\u001b[1;32m    422\u001b[0m     \u001b[0;31m# Make sure it's a valid distribution tuple\u001b[0m\u001b[0;34m\u001b[0m\u001b[0;34m\u001b[0m\u001b[0;34m\u001b[0m\u001b[0m\n\u001b[1;32m    423\u001b[0m     \u001b[0m_validate_distribution\u001b[0m\u001b[0;34m(\u001b[0m\u001b[0mdist_tuple\u001b[0m\u001b[0;34m)\u001b[0m\u001b[0;34m\u001b[0m\u001b[0;34m\u001b[0m\u001b[0m\n\u001b[0;32m--> 424\u001b[0;31m     \u001b[0;32mreturn\u001b[0m \u001b[0mSUPPORTED_DIST\u001b[0m\u001b[0;34m[\u001b[0m\u001b[0mdist_tuple\u001b[0m\u001b[0;34m[\u001b[0m\u001b[0;36m0\u001b[0m\u001b[0;34m]\u001b[0m\u001b[0;34m]\u001b[0m\u001b[0;34m(\u001b[0m\u001b[0;34m*\u001b[0m\u001b[0mdist_tuple\u001b[0m\u001b[0;34m[\u001b[0m\u001b[0;36m1\u001b[0m\u001b[0;34m:\u001b[0m\u001b[0;34m]\u001b[0m\u001b[0;34m,\u001b[0m \u001b[0mrandom_state\u001b[0m\u001b[0;34m=\u001b[0m\u001b[0mrandom_state\u001b[0m\u001b[0;34m)\u001b[0m\u001b[0;34m\u001b[0m\u001b[0;34m\u001b[0m\u001b[0m\n\u001b[0m\u001b[1;32m    425\u001b[0m \u001b[0;34m\u001b[0m\u001b[0m\n\u001b[1;32m    426\u001b[0m \u001b[0;34m\u001b[0m\u001b[0m\n",
      "\u001b[0;32m~/Master-Thesis/scaper-master/scaper37env/lib/python3.7/site-packages/scaper/util.py\u001b[0m in \u001b[0;36m_sample_choose\u001b[0;34m(list_of_options, random_state)\u001b[0m\n\u001b[1;32m    268\u001b[0m             \u001b[0;34m'from {:d} to {:d}'\u001b[0m\u001b[0;34m.\u001b[0m\u001b[0mformat\u001b[0m\u001b[0;34m(\u001b[0m\u001b[0mlen\u001b[0m\u001b[0;34m(\u001b[0m\u001b[0mlist_of_options\u001b[0m\u001b[0;34m)\u001b[0m\u001b[0;34m,\u001b[0m \u001b[0mlen\u001b[0m\u001b[0;34m(\u001b[0m\u001b[0mnew_list_of_options\u001b[0m\u001b[0;34m)\u001b[0m\u001b[0;34m)\u001b[0m\u001b[0;34m,\u001b[0m\u001b[0;34m\u001b[0m\u001b[0;34m\u001b[0m\u001b[0m\n\u001b[1;32m    269\u001b[0m             ScaperWarning)\n\u001b[0;32m--> 270\u001b[0;31m     \u001b[0mindex\u001b[0m \u001b[0;34m=\u001b[0m \u001b[0mrandom_state\u001b[0m\u001b[0;34m.\u001b[0m\u001b[0mrandint\u001b[0m\u001b[0;34m(\u001b[0m\u001b[0mlen\u001b[0m\u001b[0;34m(\u001b[0m\u001b[0mnew_list_of_options\u001b[0m\u001b[0;34m)\u001b[0m\u001b[0;34m)\u001b[0m\u001b[0;34m\u001b[0m\u001b[0;34m\u001b[0m\u001b[0m\n\u001b[0m\u001b[1;32m    271\u001b[0m     \u001b[0;32mreturn\u001b[0m \u001b[0mnew_list_of_options\u001b[0m\u001b[0;34m[\u001b[0m\u001b[0mindex\u001b[0m\u001b[0;34m]\u001b[0m\u001b[0;34m\u001b[0m\u001b[0;34m\u001b[0m\u001b[0m\n\u001b[1;32m    272\u001b[0m \u001b[0;34m\u001b[0m\u001b[0m\n",
      "\u001b[0;32mmtrand.pyx\u001b[0m in \u001b[0;36mnumpy.random.mtrand.RandomState.randint\u001b[0;34m()\u001b[0m\n",
      "\u001b[0;32m_bounded_integers.pyx\u001b[0m in \u001b[0;36mnumpy.random._bounded_integers._rand_int64\u001b[0;34m()\u001b[0m\n",
      "\u001b[0;31mValueError\u001b[0m: high <= 0"
     ]
    }
   ],
   "source": [
    "# Generate 20 soundscapes using a BIMODAL distribution of start times\n",
    "\n",
    "for n in range(n_soundscapes):\n",
    "    \n",
    "    print('Generating soundscape: {:d}/{:d}'.format(n+1, n_soundscapes))\n",
    "    \n",
    "    # create a scaper\n",
    "    sc = scaper.Scaper(duration, fg_folder, bg_folder)\n",
    "    sc.protected_labels = []\n",
    "    sc.ref_db = ref_db\n",
    "    \n",
    "    # add background\n",
    "    sc.add_background(label=('const', 'noise'), \n",
    "                      source_file=('choose', []), \n",
    "                      source_time=('const', 0))\n",
    "\n",
    "    # add random foreground events\n",
    "    n_events = np.random.randint(min_events, max_events+1)\n",
    "    for _ in range(n_events):\n",
    "        \n",
    "        coin = np.random.randint(0, 2)\n",
    "        if coin==0:\n",
    "            mu = event_time_mean1\n",
    "        else:\n",
    "            mu = event_time_mean2\n",
    "            \n",
    "        sc.add_event(label=('choose', []), \n",
    "                     source_file=('choose', []), \n",
    "                     source_time=(source_time_dist, source_time), \n",
    "                     event_time=(event_time_dist, mu, event_time_std, event_time_min, event_time_max), \n",
    "                     event_duration=(event_duration_dist, event_duration_min, event_duration_max), \n",
    "                     snr=(snr_dist, snr_min, snr_max),\n",
    "                     pitch_shift=(pitch_dist, pitch_min, pitch_max),\n",
    "                     time_stretch=(time_stretch_dist, time_stretch_min, time_stretch_max))\n",
    "    \n",
    "    # generate\n",
    "    audiofile = os.path.join(outfolder, \"soundscape_test_bimodal{:d}.wav\".format(n))\n",
    "    jamsfile = os.path.join(outfolder, \"soundscape_test_bimodal{:d}.jams\".format(n))\n",
    "    txtfile = os.path.join(outfolder, \"soundscape_test_bimodal{:d}.txt\".format(n))\n",
    "    \n",
    "    sc.generate(audiofile, jamsfile,\n",
    "                allow_repeated_label=True,\n",
    "                allow_repeated_source=False,\n",
    "                reverb=0.1,\n",
    "                disable_sox_warnings=True,\n",
    "                no_audio=False,\n",
    "                txt_path=txtfile)"
   ]
  },
  {
   "cell_type": "code",
   "execution_count": 18,
   "metadata": {},
   "outputs": [
    {
     "name": "stdout",
     "output_type": "stream",
     "text": [
      "Generating soundscape: 1/20\n"
     ]
    },
    {
     "ename": "ValueError",
     "evalue": "high <= 0",
     "output_type": "error",
     "traceback": [
      "\u001b[0;31m---------------------------------------------------------------------------\u001b[0m",
      "\u001b[0;31mValueError\u001b[0m                                Traceback (most recent call last)",
      "\u001b[0;32m/var/folders/jh/8qnr5mvd3rlc1zcpbx5xqb_h0000gn/T/ipykernel_23888/3561940182.py\u001b[0m in \u001b[0;36m<module>\u001b[0;34m\u001b[0m\n\u001b[1;32m     45\u001b[0m                 \u001b[0mdisable_sox_warnings\u001b[0m\u001b[0;34m=\u001b[0m\u001b[0;32mTrue\u001b[0m\u001b[0;34m,\u001b[0m\u001b[0;34m\u001b[0m\u001b[0;34m\u001b[0m\u001b[0m\n\u001b[1;32m     46\u001b[0m                 \u001b[0mno_audio\u001b[0m\u001b[0;34m=\u001b[0m\u001b[0;32mFalse\u001b[0m\u001b[0;34m,\u001b[0m\u001b[0;34m\u001b[0m\u001b[0;34m\u001b[0m\u001b[0m\n\u001b[0;32m---> 47\u001b[0;31m                 txt_path=txtfile)\n\u001b[0m",
      "\u001b[0;32m~/Master-Thesis/scaper-master/scaper37env/lib/python3.7/site-packages/scaper/core.py\u001b[0m in \u001b[0;36mgenerate\u001b[0;34m(self, audio_path, jams_path, allow_repeated_label, allow_repeated_source, reverb, fix_clipping, peak_normalization, quick_pitch_time, save_isolated_events, isolated_events_path, disable_sox_warnings, no_audio, txt_path, txt_sep, disable_instantiation_warnings)\u001b[0m\n\u001b[1;32m   2317\u001b[0m             \u001b[0mallow_repeated_source\u001b[0m\u001b[0;34m=\u001b[0m\u001b[0mallow_repeated_source\u001b[0m\u001b[0;34m,\u001b[0m\u001b[0;34m\u001b[0m\u001b[0;34m\u001b[0m\u001b[0m\n\u001b[1;32m   2318\u001b[0m             \u001b[0mreverb\u001b[0m\u001b[0;34m=\u001b[0m\u001b[0mreverb\u001b[0m\u001b[0;34m,\u001b[0m\u001b[0;34m\u001b[0m\u001b[0;34m\u001b[0m\u001b[0m\n\u001b[0;32m-> 2319\u001b[0;31m             disable_instantiation_warnings=disable_instantiation_warnings)\n\u001b[0m\u001b[1;32m   2320\u001b[0m         \u001b[0mann\u001b[0m \u001b[0;34m=\u001b[0m \u001b[0msoundscape_jam\u001b[0m\u001b[0;34m.\u001b[0m\u001b[0mannotations\u001b[0m\u001b[0;34m.\u001b[0m\u001b[0msearch\u001b[0m\u001b[0;34m(\u001b[0m\u001b[0mnamespace\u001b[0m\u001b[0;34m=\u001b[0m\u001b[0;34m'scaper'\u001b[0m\u001b[0;34m)\u001b[0m\u001b[0;34m[\u001b[0m\u001b[0;36m0\u001b[0m\u001b[0;34m]\u001b[0m\u001b[0;34m\u001b[0m\u001b[0;34m\u001b[0m\u001b[0m\n\u001b[1;32m   2321\u001b[0m \u001b[0;34m\u001b[0m\u001b[0m\n",
      "\u001b[0;32m~/Master-Thesis/scaper-master/scaper37env/lib/python3.7/site-packages/scaper/core.py\u001b[0m in \u001b[0;36m_instantiate\u001b[0;34m(self, allow_repeated_label, allow_repeated_source, reverb, disable_instantiation_warnings)\u001b[0m\n\u001b[1;32m   1717\u001b[0m                 \u001b[0mused_labels\u001b[0m\u001b[0;34m=\u001b[0m\u001b[0mbg_labels\u001b[0m\u001b[0;34m,\u001b[0m\u001b[0;34m\u001b[0m\u001b[0;34m\u001b[0m\u001b[0m\n\u001b[1;32m   1718\u001b[0m                 \u001b[0mused_source_files\u001b[0m\u001b[0;34m=\u001b[0m\u001b[0mbg_source_files\u001b[0m\u001b[0;34m,\u001b[0m\u001b[0;34m\u001b[0m\u001b[0;34m\u001b[0m\u001b[0m\n\u001b[0;32m-> 1719\u001b[0;31m                 disable_instantiation_warnings=disable_instantiation_warnings)\n\u001b[0m\u001b[1;32m   1720\u001b[0m \u001b[0;34m\u001b[0m\u001b[0m\n\u001b[1;32m   1721\u001b[0m             \u001b[0;31m# Note: add_background doesn't allow to set a time_stretch, i.e.\u001b[0m\u001b[0;34m\u001b[0m\u001b[0;34m\u001b[0m\u001b[0;34m\u001b[0m\u001b[0m\n",
      "\u001b[0;32m~/Master-Thesis/scaper-master/scaper37env/lib/python3.7/site-packages/scaper/core.py\u001b[0m in \u001b[0;36m_instantiate_event\u001b[0;34m(self, event, isbackground, allow_repeated_label, allow_repeated_source, used_labels, used_source_files, disable_instantiation_warnings)\u001b[0m\n\u001b[1;32m   1452\u001b[0m             \u001b[0msource_file_tuple\u001b[0m \u001b[0;34m=\u001b[0m \u001b[0mevent\u001b[0m\u001b[0;34m.\u001b[0m\u001b[0msource_file\u001b[0m\u001b[0;34m\u001b[0m\u001b[0;34m\u001b[0m\u001b[0m\n\u001b[1;32m   1453\u001b[0m \u001b[0;34m\u001b[0m\u001b[0m\n\u001b[0;32m-> 1454\u001b[0;31m         \u001b[0msource_file\u001b[0m \u001b[0;34m=\u001b[0m \u001b[0m_get_value_from_dist\u001b[0m\u001b[0;34m(\u001b[0m\u001b[0msource_file_tuple\u001b[0m\u001b[0;34m,\u001b[0m \u001b[0mself\u001b[0m\u001b[0;34m.\u001b[0m\u001b[0mrandom_state\u001b[0m\u001b[0;34m)\u001b[0m\u001b[0;34m\u001b[0m\u001b[0;34m\u001b[0m\u001b[0m\n\u001b[0m\u001b[1;32m   1455\u001b[0m \u001b[0;34m\u001b[0m\u001b[0m\n\u001b[1;32m   1456\u001b[0m         \u001b[0;31m# Make sure we can use this source file\u001b[0m\u001b[0;34m\u001b[0m\u001b[0;34m\u001b[0m\u001b[0;34m\u001b[0m\u001b[0m\n",
      "\u001b[0;32m~/Master-Thesis/scaper-master/scaper37env/lib/python3.7/site-packages/scaper/core.py\u001b[0m in \u001b[0;36m_get_value_from_dist\u001b[0;34m(dist_tuple, random_state)\u001b[0m\n\u001b[1;32m    422\u001b[0m     \u001b[0;31m# Make sure it's a valid distribution tuple\u001b[0m\u001b[0;34m\u001b[0m\u001b[0;34m\u001b[0m\u001b[0;34m\u001b[0m\u001b[0m\n\u001b[1;32m    423\u001b[0m     \u001b[0m_validate_distribution\u001b[0m\u001b[0;34m(\u001b[0m\u001b[0mdist_tuple\u001b[0m\u001b[0;34m)\u001b[0m\u001b[0;34m\u001b[0m\u001b[0;34m\u001b[0m\u001b[0m\n\u001b[0;32m--> 424\u001b[0;31m     \u001b[0;32mreturn\u001b[0m \u001b[0mSUPPORTED_DIST\u001b[0m\u001b[0;34m[\u001b[0m\u001b[0mdist_tuple\u001b[0m\u001b[0;34m[\u001b[0m\u001b[0;36m0\u001b[0m\u001b[0;34m]\u001b[0m\u001b[0;34m]\u001b[0m\u001b[0;34m(\u001b[0m\u001b[0;34m*\u001b[0m\u001b[0mdist_tuple\u001b[0m\u001b[0;34m[\u001b[0m\u001b[0;36m1\u001b[0m\u001b[0;34m:\u001b[0m\u001b[0;34m]\u001b[0m\u001b[0;34m,\u001b[0m \u001b[0mrandom_state\u001b[0m\u001b[0;34m=\u001b[0m\u001b[0mrandom_state\u001b[0m\u001b[0;34m)\u001b[0m\u001b[0;34m\u001b[0m\u001b[0;34m\u001b[0m\u001b[0m\n\u001b[0m\u001b[1;32m    425\u001b[0m \u001b[0;34m\u001b[0m\u001b[0m\n\u001b[1;32m    426\u001b[0m \u001b[0;34m\u001b[0m\u001b[0m\n",
      "\u001b[0;32m~/Master-Thesis/scaper-master/scaper37env/lib/python3.7/site-packages/scaper/util.py\u001b[0m in \u001b[0;36m_sample_choose\u001b[0;34m(list_of_options, random_state)\u001b[0m\n\u001b[1;32m    268\u001b[0m             \u001b[0;34m'from {:d} to {:d}'\u001b[0m\u001b[0;34m.\u001b[0m\u001b[0mformat\u001b[0m\u001b[0;34m(\u001b[0m\u001b[0mlen\u001b[0m\u001b[0;34m(\u001b[0m\u001b[0mlist_of_options\u001b[0m\u001b[0;34m)\u001b[0m\u001b[0;34m,\u001b[0m \u001b[0mlen\u001b[0m\u001b[0;34m(\u001b[0m\u001b[0mnew_list_of_options\u001b[0m\u001b[0;34m)\u001b[0m\u001b[0;34m)\u001b[0m\u001b[0;34m,\u001b[0m\u001b[0;34m\u001b[0m\u001b[0;34m\u001b[0m\u001b[0m\n\u001b[1;32m    269\u001b[0m             ScaperWarning)\n\u001b[0;32m--> 270\u001b[0;31m     \u001b[0mindex\u001b[0m \u001b[0;34m=\u001b[0m \u001b[0mrandom_state\u001b[0m\u001b[0;34m.\u001b[0m\u001b[0mrandint\u001b[0m\u001b[0;34m(\u001b[0m\u001b[0mlen\u001b[0m\u001b[0;34m(\u001b[0m\u001b[0mnew_list_of_options\u001b[0m\u001b[0;34m)\u001b[0m\u001b[0;34m)\u001b[0m\u001b[0;34m\u001b[0m\u001b[0;34m\u001b[0m\u001b[0m\n\u001b[0m\u001b[1;32m    271\u001b[0m     \u001b[0;32mreturn\u001b[0m \u001b[0mnew_list_of_options\u001b[0m\u001b[0;34m[\u001b[0m\u001b[0mindex\u001b[0m\u001b[0;34m]\u001b[0m\u001b[0;34m\u001b[0m\u001b[0;34m\u001b[0m\u001b[0m\n\u001b[1;32m    272\u001b[0m \u001b[0;34m\u001b[0m\u001b[0m\n",
      "\u001b[0;32mmtrand.pyx\u001b[0m in \u001b[0;36mnumpy.random.mtrand.RandomState.randint\u001b[0;34m()\u001b[0m\n",
      "\u001b[0;32m_bounded_integers.pyx\u001b[0m in \u001b[0;36mnumpy.random._bounded_integers._rand_int64\u001b[0;34m()\u001b[0m\n",
      "\u001b[0;31mValueError\u001b[0m: high <= 0"
     ]
    }
   ],
   "source": [
    "# Generate 20 soundscapes using a BIMODAL distribution of start times\n",
    "\n",
    "for n in range(n_soundscapes):\n",
    "    \n",
    "    print('Generating soundscape: {:d}/{:d}'.format(n+1, n_soundscapes))\n",
    "    \n",
    "    # create a scaper\n",
    "    sc = scaper.Scaper(duration, fg_folder, bg_folder)\n",
    "    sc.protected_labels = []\n",
    "    sc.ref_db = ref_db\n",
    "    \n",
    "    # add background\n",
    "    sc.add_background(label=('const', 'noise'), \n",
    "                      source_file=('choose', []), \n",
    "                      source_time=('const', 0))\n",
    "\n",
    "    # add random foreground events\n",
    "    n_events = np.random.randint(min_events, max_events+1)\n",
    "    for _ in range(n_events):\n",
    "        \n",
    "        coin = np.random.randint(0, 2)\n",
    "        if coin==0:\n",
    "            mu = event_time_mean1\n",
    "        else:\n",
    "            mu = event_time_mean2\n",
    "            \n",
    "        sc.add_event(label=('choose', []), \n",
    "                     source_file=('choose', []), \n",
    "                     source_time=(source_time_dist, source_time), \n",
    "                     event_time=(event_time_dist, mu, event_time_std, event_time_min, event_time_max), \n",
    "                     event_duration=(event_duration_dist, event_duration_min, event_duration_max), \n",
    "                     snr=(snr_dist, snr_min, snr_max),\n",
    "                     pitch_shift=(pitch_dist, pitch_min, pitch_max),\n",
    "                     time_stretch=(time_stretch_dist, time_stretch_min, time_stretch_max))\n",
    "    \n",
    "    # generate\n",
    "    audiofile = os.path.join(outfolder, \"soundscape_test_bimodal{:d}.wav\".format(n))\n",
    "    jamsfile = os.path.join(outfolder, \"soundscape_test_bimodal{:d}.jams\".format(n))\n",
    "    txtfile = os.path.join(outfolder, \"soundscape_test_bimodal{:d}.txt\".format(n))\n",
    "    \n",
    "    sc.generate(audiofile, jamsfile,\n",
    "                allow_repeated_label=True,\n",
    "                allow_repeated_source=False,\n",
    "                reverb=0.1,\n",
    "                disable_sox_warnings=True,\n",
    "                no_audio=False,\n",
    "                txt_path=txtfile)"
   ]
  },
  {
   "cell_type": "code",
   "execution_count": null,
   "metadata": {
    "collapsed": true,
    "deletable": true,
    "editable": true
   },
   "outputs": [],
   "source": []
  }
 ],
 "metadata": {
  "kernelspec": {
   "display_name": "Python 3",
   "language": "python",
   "name": "python3"
  },
  "language_info": {
   "codemirror_mode": {
    "name": "ipython",
    "version": 3
   },
   "file_extension": ".py",
   "mimetype": "text/x-python",
   "name": "python",
   "nbconvert_exporter": "python",
   "pygments_lexer": "ipython3",
   "version": "3.7.16"
  }
 },
 "nbformat": 4,
 "nbformat_minor": 2
}
