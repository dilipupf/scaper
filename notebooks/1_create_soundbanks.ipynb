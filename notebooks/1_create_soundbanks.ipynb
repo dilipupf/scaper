{
 "cells": [
  {
   "cell_type": "code",
   "execution_count": 2,
   "metadata": {
    "collapsed": false
   },
   "outputs": [],
   "source": [
    "import pandas as pd\n",
    "import numpy as np\n",
    "import shutil\n",
    "import os\n",
    "from tqdm import tqdm\n",
    "import glob"
   ]
  },
  {
   "attachments": {},
   "cell_type": "markdown",
   "metadata": {},
   "source": [
    "## Load metadata and get label list"
   ]
  },
  {
   "cell_type": "code",
   "execution_count": 3,
   "metadata": {
    "collapsed": true
   },
   "outputs": [],
   "source": [
    "metadatafile = '/Users/dilipharish/1 UPF Course Work/Music Information Retreival/UrbanSound8K/metadata/UrbanSound8K.csv'\n",
    "metadata = pd.read_csv(metadatafile)"
   ]
  },
  {
   "cell_type": "code",
   "execution_count": 4,
   "metadata": {
    "collapsed": false
   },
   "outputs": [
    {
     "name": "stdout",
     "output_type": "stream",
     "text": [
      "['air_conditioner', 'car_horn', 'children_playing', 'dog_bark', 'drilling', 'engine_idling', 'gun_shot', 'jackhammer', 'siren', 'street_music']\n"
     ]
    }
   ],
   "source": [
    "label_list = sorted(metadata['class'].unique())\n",
    "print(label_list)"
   ]
  },
  {
   "attachments": {},
   "cell_type": "markdown",
   "metadata": {},
   "source": [
    "## Create soundbank for TRAIN (folds 1-6)"
   ]
  },
  {
   "cell_type": "code",
   "execution_count": 9,
   "metadata": {
    "collapsed": false
   },
   "outputs": [
    {
     "name": "stdout",
     "output_type": "stream",
     "text": [
      "FOLD 1\n"
     ]
    },
    {
     "name": "stderr",
     "output_type": "stream",
     "text": [
      "100%|██████████| 873/873 [00:02<00:00, 336.57it/s]\n"
     ]
    },
    {
     "name": "stdout",
     "output_type": "stream",
     "text": [
      "   Fold 1 labels:\n",
      "   air_conditioner:\t100\n",
      "   car_horn:\t36\n",
      "   children_playing:\t100\n",
      "   dog_bark:\t100\n",
      "   drilling:\t100\n",
      "   engine_idling:\t96\n",
      "   gun_shot:\t35\n",
      "   jackhammer:\t120\n",
      "   siren:\t86\n",
      "   street_music:\t100\n",
      "FOLD 2\n"
     ]
    },
    {
     "name": "stderr",
     "output_type": "stream",
     "text": [
      "100%|██████████| 888/888 [00:02<00:00, 353.22it/s]\n"
     ]
    },
    {
     "name": "stdout",
     "output_type": "stream",
     "text": [
      "   Fold 2 labels:\n",
      "   air_conditioner:\t100\n",
      "   car_horn:\t42\n",
      "   children_playing:\t100\n",
      "   dog_bark:\t100\n",
      "   drilling:\t100\n",
      "   engine_idling:\t100\n",
      "   gun_shot:\t35\n",
      "   jackhammer:\t120\n",
      "   siren:\t91\n",
      "   street_music:\t100\n",
      "FOLD 3\n"
     ]
    },
    {
     "name": "stderr",
     "output_type": "stream",
     "text": [
      "100%|██████████| 925/925 [00:02<00:00, 352.95it/s]\n"
     ]
    },
    {
     "name": "stdout",
     "output_type": "stream",
     "text": [
      "   Fold 3 labels:\n",
      "   air_conditioner:\t100\n",
      "   car_horn:\t43\n",
      "   children_playing:\t100\n",
      "   dog_bark:\t100\n",
      "   drilling:\t100\n",
      "   engine_idling:\t107\n",
      "   gun_shot:\t36\n",
      "   jackhammer:\t120\n",
      "   siren:\t119\n",
      "   street_music:\t100\n",
      "FOLD 4\n"
     ]
    },
    {
     "name": "stderr",
     "output_type": "stream",
     "text": [
      "100%|██████████| 990/990 [00:02<00:00, 352.25it/s]\n"
     ]
    },
    {
     "name": "stdout",
     "output_type": "stream",
     "text": [
      "   Fold 4 labels:\n",
      "   air_conditioner:\t100\n",
      "   car_horn:\t59\n",
      "   children_playing:\t100\n",
      "   dog_bark:\t100\n",
      "   drilling:\t100\n",
      "   engine_idling:\t107\n",
      "   gun_shot:\t38\n",
      "   jackhammer:\t120\n",
      "   siren:\t166\n",
      "   street_music:\t100\n",
      "FOLD 5\n"
     ]
    },
    {
     "name": "stderr",
     "output_type": "stream",
     "text": [
      "100%|██████████| 936/936 [00:02<00:00, 344.60it/s]\n"
     ]
    },
    {
     "name": "stdout",
     "output_type": "stream",
     "text": [
      "   Fold 5 labels:\n",
      "   air_conditioner:\t100\n",
      "   car_horn:\t98\n",
      "   children_playing:\t100\n",
      "   dog_bark:\t100\n",
      "   drilling:\t100\n",
      "   engine_idling:\t107\n",
      "   gun_shot:\t40\n",
      "   jackhammer:\t120\n",
      "   siren:\t71\n",
      "   street_music:\t100\n",
      "FOLD 6\n"
     ]
    },
    {
     "name": "stderr",
     "output_type": "stream",
     "text": [
      "100%|██████████| 823/823 [00:02<00:00, 389.52it/s]"
     ]
    },
    {
     "name": "stdout",
     "output_type": "stream",
     "text": [
      "   Fold 6 labels:\n",
      "   air_conditioner:\t100\n",
      "   car_horn:\t28\n",
      "   children_playing:\t100\n",
      "   dog_bark:\t100\n",
      "   drilling:\t100\n",
      "   engine_idling:\t107\n",
      "   gun_shot:\t46\n",
      "   jackhammer:\t68\n",
      "   siren:\t74\n",
      "   street_music:\t100\n",
      "\n",
      "\n",
      "OVERALL labels:\n",
      "air_conditioner:\t600\n",
      "car_horn:\t306\n",
      "children_playing:\t600\n",
      "dog_bark:\t600\n",
      "drilling:\t600\n",
      "engine_idling:\t624\n",
      "gun_shot:\t230\n",
      "jackhammer:\t668\n",
      "siren:\t607\n",
      "street_music:\t600\n"
     ]
    },
    {
     "name": "stderr",
     "output_type": "stream",
     "text": [
      "\n"
     ]
    }
   ],
   "source": [
    "folds = [1, 2, 3, 4, 5, 6]\n",
    "splitname = 'train'\n",
    "\n",
    "soundbankfolder = '/Users/dilipharish/Master-Thesis/scaper-master/datasets/soundbanks'\n",
    "soundbankfolder = os.path.join(soundbankfolder, splitname)\n",
    "\n",
    "label_count = {}\n",
    "for label in label_list:\n",
    "    label_count[label] = 0\n",
    "\n",
    "for fold in folds:\n",
    "    \n",
    "    print('FOLD {:d}'.format(fold))\n",
    "    audiofolder =  '/Users/dilipharish/1 UPF Course Work/Music Information Retreival/UrbanSound8K/audio/fold{:d}/'.format(fold)\n",
    "    audiofiles = glob.glob(os.path.join(audiofolder, '*.wav'))\n",
    "    \n",
    "    fold_label_count = {}\n",
    "    for label in label_list:\n",
    "        fold_label_count[label] = 0\n",
    "    \n",
    "    for af in tqdm(audiofiles):\n",
    "        # print(os.path.basename(af))\n",
    "        label = metadata.loc[metadata.slice_file_name == os.path.basename(af), 'class'].values[0]\n",
    "        label_count[label] += 1\n",
    "        fold_label_count[label] += 1\n",
    "        destfolder = os.path.join(soundbankfolder, 'foreground', label)\n",
    "        if not os.path.isdir(destfolder):\n",
    "            os.mkdir(destfolder)\n",
    "        destfile = os.path.join(destfolder, os.path.basename(af))\n",
    "        shutil.copyfile(af, destfile)\n",
    "        \n",
    "    # Print fold report\n",
    "    print('   Fold {:d} labels:'.format(fold))\n",
    "    for label in label_list:\n",
    "        print('   {:s}:\\t{:d}'.format(label, fold_label_count[label]))\n",
    "        \n",
    "# Print overall report\n",
    "print('\\n\\nOVERALL labels:')\n",
    "for label in label_list:\n",
    "    print('{:s}:\\t{:d}'.format(label, label_count[label]))"
   ]
  },
  {
   "attachments": {},
   "cell_type": "markdown",
   "metadata": {},
   "source": [
    "## Create soundbank for VALIDATE (folds 7-8)"
   ]
  },
  {
   "cell_type": "code",
   "execution_count": 11,
   "metadata": {
    "collapsed": false
   },
   "outputs": [
    {
     "name": "stdout",
     "output_type": "stream",
     "text": [
      "FOLD 7\n"
     ]
    },
    {
     "name": "stderr",
     "output_type": "stream",
     "text": [
      "100%|██████████| 838/838 [00:02<00:00, 355.41it/s]\n"
     ]
    },
    {
     "name": "stdout",
     "output_type": "stream",
     "text": [
      "   Fold 7 labels:\n",
      "   air_conditioner:\t100\n",
      "   car_horn:\t28\n",
      "   children_playing:\t100\n",
      "   dog_bark:\t100\n",
      "   drilling:\t100\n",
      "   engine_idling:\t106\n",
      "   gun_shot:\t51\n",
      "   jackhammer:\t76\n",
      "   siren:\t77\n",
      "   street_music:\t100\n",
      "FOLD 8\n"
     ]
    },
    {
     "name": "stderr",
     "output_type": "stream",
     "text": [
      "100%|██████████| 806/806 [00:02<00:00, 362.39it/s]"
     ]
    },
    {
     "name": "stdout",
     "output_type": "stream",
     "text": [
      "   Fold 8 labels:\n",
      "   air_conditioner:\t100\n",
      "   car_horn:\t30\n",
      "   children_playing:\t100\n",
      "   dog_bark:\t100\n",
      "   drilling:\t100\n",
      "   engine_idling:\t88\n",
      "   gun_shot:\t30\n",
      "   jackhammer:\t78\n",
      "   siren:\t80\n",
      "   street_music:\t100\n",
      "\n",
      "\n",
      "OVERALL labels:\n",
      "air_conditioner:\t200\n",
      "car_horn:\t58\n",
      "children_playing:\t200\n",
      "dog_bark:\t200\n",
      "drilling:\t200\n",
      "engine_idling:\t194\n",
      "gun_shot:\t81\n",
      "jackhammer:\t154\n",
      "siren:\t157\n",
      "street_music:\t200\n"
     ]
    },
    {
     "name": "stderr",
     "output_type": "stream",
     "text": [
      "\n"
     ]
    }
   ],
   "source": [
    "folds = [7, 8]\n",
    "splitname = 'validate'\n",
    "\n",
    "soundbankfolder = '/Users/dilipharish/Master-Thesis/scaper-master/datasets/soundbanks'\n",
    "soundbankfolder = os.path.join(soundbankfolder, splitname)\n",
    "\n",
    "label_count = {}\n",
    "for label in label_list:\n",
    "    label_count[label] = 0\n",
    "\n",
    "for fold in folds:\n",
    "    \n",
    "    print('FOLD {:d}'.format(fold))\n",
    "    audiofolder = '/Users/dilipharish/1 UPF Course Work/Music Information Retreival/UrbanSound8K/audio/fold{:d}/'.format(fold)\n",
    "    audiofiles = glob.glob(os.path.join(audiofolder, '*.wav'))\n",
    "    \n",
    "    fold_label_count = {}\n",
    "    for label in label_list:\n",
    "        fold_label_count[label] = 0\n",
    "    \n",
    "    for af in tqdm(audiofiles):\n",
    "        # print(os.path.basename(af))\n",
    "        label = metadata.loc[metadata.slice_file_name == os.path.basename(af), 'class'].values[0]\n",
    "        label_count[label] += 1\n",
    "        fold_label_count[label] += 1\n",
    "        destfolder = os.path.join(soundbankfolder, 'foreground', label)\n",
    "        if not os.path.isdir(destfolder):\n",
    "            os.mkdir(destfolder)\n",
    "        destfile = os.path.join(destfolder, os.path.basename(af))\n",
    "        shutil.copyfile(af, destfile)\n",
    "        \n",
    "    # Print fold report\n",
    "    print('   Fold {:d} labels:'.format(fold))\n",
    "    for label in label_list:\n",
    "        print('   {:s}:\\t{:d}'.format(label, fold_label_count[label]))\n",
    "        \n",
    "# Print overall report\n",
    "print('\\n\\nOVERALL labels:')\n",
    "for label in label_list:\n",
    "    print('{:s}:\\t{:d}'.format(label, label_count[label]))"
   ]
  },
  {
   "attachments": {},
   "cell_type": "markdown",
   "metadata": {},
   "source": [
    "## Create soundbank for TEST (folds 9-10)"
   ]
  },
  {
   "cell_type": "code",
   "execution_count": 13,
   "metadata": {
    "collapsed": false
   },
   "outputs": [
    {
     "name": "stdout",
     "output_type": "stream",
     "text": [
      "FOLD 9\n"
     ]
    },
    {
     "name": "stderr",
     "output_type": "stream",
     "text": [
      "100%|██████████| 816/816 [00:02<00:00, 366.50it/s]\n"
     ]
    },
    {
     "name": "stdout",
     "output_type": "stream",
     "text": [
      "   Fold 9 labels:\n",
      "   air_conditioner:\t100\n",
      "   car_horn:\t32\n",
      "   children_playing:\t100\n",
      "   dog_bark:\t100\n",
      "   drilling:\t100\n",
      "   engine_idling:\t89\n",
      "   gun_shot:\t31\n",
      "   jackhammer:\t82\n",
      "   siren:\t82\n",
      "   street_music:\t100\n",
      "FOLD 10\n"
     ]
    },
    {
     "name": "stderr",
     "output_type": "stream",
     "text": [
      "100%|██████████| 837/837 [00:02<00:00, 363.95it/s]"
     ]
    },
    {
     "name": "stdout",
     "output_type": "stream",
     "text": [
      "   Fold 10 labels:\n",
      "   air_conditioner:\t100\n",
      "   car_horn:\t33\n",
      "   children_playing:\t100\n",
      "   dog_bark:\t100\n",
      "   drilling:\t100\n",
      "   engine_idling:\t93\n",
      "   gun_shot:\t32\n",
      "   jackhammer:\t96\n",
      "   siren:\t83\n",
      "   street_music:\t100\n",
      "\n",
      "\n",
      "OVERALL labels:\n",
      "air_conditioner:\t200\n",
      "car_horn:\t65\n",
      "children_playing:\t200\n",
      "dog_bark:\t200\n",
      "drilling:\t200\n",
      "engine_idling:\t182\n",
      "gun_shot:\t63\n",
      "jackhammer:\t178\n",
      "siren:\t165\n",
      "street_music:\t200\n"
     ]
    },
    {
     "name": "stderr",
     "output_type": "stream",
     "text": [
      "\n"
     ]
    }
   ],
   "source": [
    "folds = [9, 10]\n",
    "splitname = 'test'\n",
    "\n",
    "soundbankfolder = '/Users/dilipharish/Master-Thesis/scaper-master/datasets/soundbanks'\n",
    "soundbankfolder = os.path.join(soundbankfolder, splitname)\n",
    "\n",
    "label_count = {}\n",
    "for label in label_list:\n",
    "    label_count[label] = 0\n",
    "\n",
    "for fold in folds:\n",
    "    \n",
    "    print('FOLD {:d}'.format(fold))\n",
    "    audiofolder = '/Users/dilipharish/1 UPF Course Work/Music Information Retreival/UrbanSound8K/audio/fold{:d}/'.format(fold)\n",
    "    audiofiles = glob.glob(os.path.join(audiofolder, '*.wav'))\n",
    "    \n",
    "    fold_label_count = {}\n",
    "    for label in label_list:\n",
    "        fold_label_count[label] = 0\n",
    "    \n",
    "    for af in tqdm(audiofiles):\n",
    "        # print(os.path.basename(af))\n",
    "        label = metadata.loc[metadata.slice_file_name == os.path.basename(af), 'class'].values[0]\n",
    "        label_count[label] += 1\n",
    "        fold_label_count[label] += 1\n",
    "        destfolder = os.path.join(soundbankfolder, 'foreground', label)\n",
    "        if not os.path.isdir(destfolder):\n",
    "            os.mkdir(destfolder)\n",
    "        destfile = os.path.join(destfolder, os.path.basename(af))\n",
    "        shutil.copyfile(af, destfile)\n",
    "        \n",
    "    # Print fold report\n",
    "    print('   Fold {:d} labels:'.format(fold))\n",
    "    for label in label_list:\n",
    "        print('   {:s}:\\t{:d}'.format(label, fold_label_count[label]))\n",
    "        \n",
    "# Print overall report\n",
    "print('\\n\\nOVERALL labels:')\n",
    "for label in label_list:\n",
    "    print('{:s}:\\t{:d}'.format(label, label_count[label]))"
   ]
  },
  {
   "attachments": {},
   "cell_type": "markdown",
   "metadata": {},
   "source": [
    "## Copy noise excerpt for all files"
   ]
  },
  {
   "cell_type": "code",
   "execution_count": 16,
   "metadata": {
    "collapsed": true
   },
   "outputs": [],
   "source": [
    "noisefile = '/Users/dilipharish/Master-Thesis/scaper-master/audio/noise/444245__matrixxx__brownian_noise_10_sec.wav'\n",
    "soundbankfolder = '/Users/dilipharish/Master-Thesis/scaper-master/datasets/soundbanks'\n",
    "\n",
    "for split in ['train', 'validate', 'test']:\n",
    "    \n",
    "    destfolder = os.path.join(soundbankfolder, split, 'background', 'noise')\n",
    "    if not os.path.isdir(destfolder):\n",
    "        os.mkdir(destfolder)\n",
    "        \n",
    "    destfile = os.path.join(destfolder, os.path.basename(noisefile))\n",
    "    shutil.copyfile(noisefile, destfile)"
   ]
  },
  {
   "cell_type": "code",
   "execution_count": 3,
   "metadata": {
    "collapsed": true
   },
   "outputs": [
    {
     "name": "stdout",
     "output_type": "stream",
     "text": [
      "1. An abrupt car horn sound followed by the loud gun shot and drilling.\n",
      "2. A car horn, gun shot and drilling all occurring in quick succession.\n",
      "3. A series of sharp noises including a car horn, gun shot and drilling.\n",
      "4. A car horn, gun shot and drilling all sounding in the same moment. \n",
      "5. An instantaneous symphony of car horn, gun shot and drilling.\n"
     ]
    }
   ],
   "source": [
    "import openai\n",
    "import os\n",
    "\n",
    "# Load the OpenAI API key from an environment variable or file\n",
    "openai.api_key = os.getenv(\"OPENAI_API_KEY\")\n",
    "# Prompt the user to enter a set of tags\n",
    "prompt = input(\"Enter a set of tags: dog bark, walking steps, typing\")\n",
    "\n",
    "# Set up the OpenAI API parameters\n",
    "\n",
    "model = \"text-davinci-003\"\n",
    "temperature = 0.7\n",
    "max_tokens = 256\n",
    "\n",
    "# Generate the text description using the OpenAI API\n",
    "response = openai.Completion.create(\n",
    "    engine=model,\n",
    "    prompt=prompt,\n",
    "    temperature=temperature,\n",
    "    max_tokens=max_tokens,\n",
    ")\n",
    "\n",
    "# Print the text description\n",
    "print(response.choices[0].text.strip())\n"
   ]
  },
  {
   "cell_type": "code",
   "execution_count": null,
   "metadata": {},
   "outputs": [],
   "source": []
  }
 ],
 "metadata": {
  "kernelspec": {
   "display_name": "Python 3",
   "language": "python",
   "name": "python3"
  },
  "language_info": {
   "codemirror_mode": {
    "name": "ipython",
    "version": 3
   },
   "file_extension": ".py",
   "mimetype": "text/x-python",
   "name": "python",
   "nbconvert_exporter": "python",
   "pygments_lexer": "ipython3",
   "version": "3.7.16"
  }
 },
 "nbformat": 4,
 "nbformat_minor": 2
}
