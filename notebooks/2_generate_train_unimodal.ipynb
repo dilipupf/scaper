{
 "cells": [
  {
   "cell_type": "code",
   "execution_count": 2,
   "metadata": {
    "collapsed": true,
    "deletable": true,
    "editable": true
   },
   "outputs": [],
   "source": [
    "import numpy as np\n",
    "np.random.seed(123)\n",
    "import scaper\n",
    "import os"
   ]
  },
  {
   "cell_type": "code",
   "execution_count": 4,
   "metadata": {
    "collapsed": true,
    "deletable": true,
    "editable": true
   },
   "outputs": [],
   "source": [
    "import numpy as np\n",
    "np.random.seed(123)\n",
    "import scaper\n",
    "import os\n",
    "\n",
    "# SCAPER SETTINGS\n",
    "fg_folder = '/Users/dilipharish/Master-Thesis/scaper-master/datasets/soundbanks/train/foreground'\n",
    "bg_folder = '/Users/dilipharish/Master-Thesis/scaper-master/datasets/soundbanks/train/background/'\n",
    "\n",
    "n_soundscapes = 20\n",
    "ref_db = -20\n",
    "duration = 10.0\n",
    "\n",
    "min_events = 1\n",
    "max_events = 9\n",
    "\n",
    "event_time_dist = 'truncnorm'\n",
    "event_time_mean = 5.0\n",
    "event_time_std = 2.0\n",
    "event_time_min = 0.0\n",
    "event_time_max = 10.0\n",
    "\n",
    "source_time_dist = 'const'\n",
    "source_time = 0.0\n",
    "\n",
    "event_duration_dist = 'truncnorm'\n",
    "event_duration_mean = 3.0\n",
    "event_duration_std = 2.0\n",
    "event_duration_min = 0.5\n",
    "event_duration_max = 3.0\n",
    "\n",
    "snr_dist = 'uniform'\n",
    "snr_min = 6\n",
    "snr_max = 30\n",
    "\n",
    "pitch_dist = 'uniform'\n",
    "pitch_min = -1.0\n",
    "pitch_max = 1.0\n",
    "\n",
    "time_stretch_dist = 'uniform'\n",
    "time_stretch_min = 0.8\n",
    "time_stretch_max = 1.2\n",
    "\n",
    "\n",
    "# FILE SETTINGS\n",
    "outfolder = os.path.join('/Users/dilipharish/Master-Thesis/scaper-master/audio/soundscapes/train/unimodal')\n",
    "if not os.path.isdir(outfolder):\n",
    "    os.mkdir(outfolder)\n",
    "\n",
    "\n",
    "# Generate 2000 soundscapes using a UNIFORM distribution of start times\n",
    "\n",
    "for n in range(n_soundscapes):\n",
    "    \n",
    "    print('Generating soundscape: {:d}/{:d}'.format(n+1, n_soundscapes))\n",
    "    \n",
    "    # create a scaper\n",
    "    sc = scaper.Scaper(duration, fg_folder, bg_folder)\n",
    "    sc.protected_labels = []\n",
    "    sc.ref_db = ref_db\n",
    "    \n",
    "    # add background\n",
    "    sc.add_background(label=('const', 'car_horn'), \n",
    "                      source_file=('choose', []), \n",
    "                      source_time=('const', 0))\n",
    "\n",
    "    # add random foreground events\n",
    "    n_events = np.random.randint(min_events, max_events+1)\n",
    "    for _ in range(n_events):\n",
    "        sc.add_event(label=('choose', []), \n",
    "                     source_file=('choose', []), \n",
    "                     source_time=(source_time_dist, source_time), \n",
    "                     event_time=(event_time_dist, event_time_mean, event_time_std, event_time_min, event_time_max), \n",
    "                     event_duration=(event_duration_dist, event_duration_mean, event_duration_std,event_duration_min, event_duration_max), \n",
    "                     snr=(snr_dist, snr_min, snr_max),\n",
    "                     pitch_shift=(pitch_dist, pitch_min, pitch_max),\n",
    "                     time_stretch=(time_stretch_dist, time_stretch_min, time_stretch_max))\n",
    "    \n",
    "    # generate\n",
    "    audiofile = os.path.join(outfolder, \"soundscape_train_unimodal{:d}.wav\".format(n))\n",
    "    jamsfile = os.path.join(outfolder, \"soundscape_train_unimodal{:d}.jams\".format(n))\n",
    "    txtfile = os.path.join(outfolder, \"soundscape_train_unimodal{:d}.txt\".format(n))\n",
    "    \n",
    "    sc.generate(audiofile, jamsfile,\n",
    "                allow_repeated_label=True,\n",
    "                allow_repeated_source=False,\n",
    "                reverb=0.1,\n",
    "                disable_sox_warnings=True,\n",
    "                no_audio=False,\n",
    "                txt_path=txtfile)"
   ]
  },
  {
   "cell_type": "code",
   "execution_count": 6,
   "metadata": {
    "collapsed": false,
    "deletable": true,
    "editable": true,
    "scrolled": true
   },
   "outputs": [
    {
     "name": "stdout",
     "output_type": "stream",
     "text": [
      "Generating soundscape: 1/20\n"
     ]
    },
    {
     "name": "stderr",
     "output_type": "stream",
     "text": [
      "/Users/dilipharish/Master-Thesis/scaper-master/scaper37env/lib/python3.7/site-packages/scaper/core.py:1591: ScaperWarning: car_horn source time tuple (const, 0) could not be satisfied given source duration (4.00) and event duration (10.00), source time tuple changed to (const, 0) but was still not satisfiable, likely due to using 'normal' distribution with bounds too close to the start or end of the audio file\n",
      "  ScaperWarning)\n",
      "/Users/dilipharish/Master-Thesis/scaper-master/scaper37env/lib/python3.7/site-packages/scaper/core.py:1505: ScaperWarning: gun_shot event duration (5.00) is greater that source duration (2.20), changing to 2.20\n",
      "  ScaperWarning)\n",
      "/Users/dilipharish/Master-Thesis/scaper-master/scaper37env/lib/python3.7/site-packages/scaper/core.py:1631: ScaperWarning: gun_shot event time (8.91) is too great given stretched event duration (2.13) and soundscape duration (10.00), changed to 7.87.\n",
      "  ScaperWarning)\n",
      "/Users/dilipharish/Master-Thesis/scaper-master/scaper37env/lib/python3.7/site-packages/scaper/core.py:2078: ScaperWarning: Soundscape audio is clipping!\n",
      "  ScaperWarning)\n",
      "/Users/dilipharish/Master-Thesis/scaper-master/scaper37env/lib/python3.7/site-packages/scaper/core.py:1591: ScaperWarning: car_horn source time tuple (const, 0) could not be satisfied given source duration (4.00) and event duration (10.00), source time tuple changed to (const, 0) but was still not satisfiable, likely due to using 'normal' distribution with bounds too close to the start or end of the audio file\n",
      "  ScaperWarning)\n",
      "/Users/dilipharish/Master-Thesis/scaper-master/scaper37env/lib/python3.7/site-packages/scaper/core.py:1505: ScaperWarning: gun_shot event duration (4.78) is greater that source duration (0.60), changing to 0.60\n",
      "  ScaperWarning)\n",
      "/Users/dilipharish/Master-Thesis/scaper-master/scaper37env/lib/python3.7/site-packages/scaper/core.py:1505: ScaperWarning: drilling event duration (4.11) is greater that source duration (4.00), changing to 4.00\n",
      "  ScaperWarning)\n",
      "/Users/dilipharish/Master-Thesis/scaper-master/scaper37env/lib/python3.7/site-packages/scaper/core.py:1505: ScaperWarning: gun_shot event duration (2.27) is greater that source duration (1.33), changing to 1.33\n",
      "  ScaperWarning)\n"
     ]
    },
    {
     "name": "stdout",
     "output_type": "stream",
     "text": [
      "Generating soundscape: 2/20\n"
     ]
    },
    {
     "name": "stderr",
     "output_type": "stream",
     "text": [
      "/Users/dilipharish/Master-Thesis/scaper-master/scaper37env/lib/python3.7/site-packages/scaper/core.py:2078: ScaperWarning: Soundscape audio is clipping!\n",
      "  ScaperWarning)\n",
      "/Users/dilipharish/Master-Thesis/scaper-master/scaper37env/lib/python3.7/site-packages/scaper/core.py:1591: ScaperWarning: car_horn source time tuple (const, 0) could not be satisfied given source duration (0.23) and event duration (10.00), source time tuple changed to (const, 0) but was still not satisfiable, likely due to using 'normal' distribution with bounds too close to the start or end of the audio file\n",
      "  ScaperWarning)\n",
      "/Users/dilipharish/Master-Thesis/scaper-master/scaper37env/lib/python3.7/site-packages/scaper/core.py:1505: ScaperWarning: street_music event duration (4.55) is greater that source duration (4.00), changing to 4.00\n",
      "  ScaperWarning)\n",
      "/Users/dilipharish/Master-Thesis/scaper-master/scaper37env/lib/python3.7/site-packages/scaper/core.py:1631: ScaperWarning: street_music event time (5.89) is too great given stretched event duration (4.20) and soundscape duration (10.00), changed to 5.80.\n",
      "  ScaperWarning)\n",
      "/Users/dilipharish/Master-Thesis/scaper-master/scaper37env/lib/python3.7/site-packages/scaper/core.py:1505: ScaperWarning: gun_shot event duration (3.15) is greater that source duration (0.58), changing to 0.58\n",
      "  ScaperWarning)\n"
     ]
    },
    {
     "name": "stdout",
     "output_type": "stream",
     "text": [
      "Generating soundscape: 3/20\n"
     ]
    },
    {
     "name": "stderr",
     "output_type": "stream",
     "text": [
      "/Users/dilipharish/Master-Thesis/scaper-master/scaper37env/lib/python3.7/site-packages/scaper/core.py:2078: ScaperWarning: Soundscape audio is clipping!\n",
      "  ScaperWarning)\n",
      "/Users/dilipharish/Master-Thesis/scaper-master/scaper37env/lib/python3.7/site-packages/scaper/core.py:1591: ScaperWarning: car_horn source time tuple (const, 0) could not be satisfied given source duration (4.00) and event duration (10.00), source time tuple changed to (const, 0) but was still not satisfiable, likely due to using 'normal' distribution with bounds too close to the start or end of the audio file\n",
      "  ScaperWarning)\n",
      "/Users/dilipharish/Master-Thesis/scaper-master/scaper37env/lib/python3.7/site-packages/scaper/core.py:1505: ScaperWarning: gun_shot event duration (3.83) is greater that source duration (1.27), changing to 1.27\n",
      "  ScaperWarning)\n",
      "/Users/dilipharish/Master-Thesis/scaper-master/scaper37env/lib/python3.7/site-packages/scaper/core.py:1505: ScaperWarning: gun_shot event duration (4.73) is greater that source duration (2.46), changing to 2.46\n",
      "  ScaperWarning)\n"
     ]
    },
    {
     "name": "stdout",
     "output_type": "stream",
     "text": [
      "Generating soundscape: 4/20\n"
     ]
    },
    {
     "name": "stderr",
     "output_type": "stream",
     "text": [
      "/Users/dilipharish/Master-Thesis/scaper-master/scaper37env/lib/python3.7/site-packages/scaper/core.py:2078: ScaperWarning: Soundscape audio is clipping!\n",
      "  ScaperWarning)\n",
      "/Users/dilipharish/Master-Thesis/scaper-master/scaper37env/lib/python3.7/site-packages/scaper/core.py:1591: ScaperWarning: car_horn source time tuple (const, 0) could not be satisfied given source duration (4.00) and event duration (10.00), source time tuple changed to (const, 0) but was still not satisfiable, likely due to using 'normal' distribution with bounds too close to the start or end of the audio file\n",
      "  ScaperWarning)\n",
      "/Users/dilipharish/Master-Thesis/scaper-master/scaper37env/lib/python3.7/site-packages/scaper/core.py:1505: ScaperWarning: car_horn event duration (4.43) is greater that source duration (0.19), changing to 0.19\n",
      "  ScaperWarning)\n",
      "/Users/dilipharish/Master-Thesis/scaper-master/scaper37env/lib/python3.7/site-packages/scaper/core.py:1505: ScaperWarning: street_music event duration (4.05) is greater that source duration (4.00), changing to 4.00\n",
      "  ScaperWarning)\n",
      "/Users/dilipharish/Master-Thesis/scaper-master/scaper37env/lib/python3.7/site-packages/scaper/core.py:1505: ScaperWarning: dog_bark event duration (2.94) is greater that source duration (2.86), changing to 2.86\n",
      "  ScaperWarning)\n",
      "/Users/dilipharish/Master-Thesis/scaper-master/scaper37env/lib/python3.7/site-packages/scaper/core.py:1505: ScaperWarning: siren event duration (4.49) is greater that source duration (4.00), changing to 4.00\n",
      "  ScaperWarning)\n",
      "/Users/dilipharish/Master-Thesis/scaper-master/scaper37env/lib/python3.7/site-packages/scaper/core.py:1631: ScaperWarning: siren event time (6.35) is too great given stretched event duration (3.93) and soundscape duration (10.00), changed to 6.07.\n",
      "  ScaperWarning)\n",
      "/Users/dilipharish/Master-Thesis/scaper-master/scaper37env/lib/python3.7/site-packages/scaper/core.py:1505: ScaperWarning: children_playing event duration (5.42) is greater that source duration (4.00), changing to 4.00\n",
      "  ScaperWarning)\n",
      "/Users/dilipharish/Master-Thesis/scaper-master/scaper37env/lib/python3.7/site-packages/scaper/core.py:1505: ScaperWarning: jackhammer event duration (2.85) is greater that source duration (2.23), changing to 2.23\n",
      "  ScaperWarning)\n"
     ]
    },
    {
     "name": "stdout",
     "output_type": "stream",
     "text": [
      "Generating soundscape: 5/20\n"
     ]
    },
    {
     "name": "stderr",
     "output_type": "stream",
     "text": [
      "/Users/dilipharish/Master-Thesis/scaper-master/scaper37env/lib/python3.7/site-packages/scaper/core.py:2078: ScaperWarning: Soundscape audio is clipping!\n",
      "  ScaperWarning)\n",
      "/Users/dilipharish/Master-Thesis/scaper-master/scaper37env/lib/python3.7/site-packages/scaper/core.py:1591: ScaperWarning: car_horn source time tuple (const, 0) could not be satisfied given source duration (4.00) and event duration (10.00), source time tuple changed to (const, 0) but was still not satisfiable, likely due to using 'normal' distribution with bounds too close to the start or end of the audio file\n",
      "  ScaperWarning)\n",
      "/Users/dilipharish/Master-Thesis/scaper-master/scaper37env/lib/python3.7/site-packages/scaper/core.py:1505: ScaperWarning: dog_bark event duration (5.72) is greater that source duration (4.00), changing to 4.00\n",
      "  ScaperWarning)\n",
      "/Users/dilipharish/Master-Thesis/scaper-master/scaper37env/lib/python3.7/site-packages/scaper/core.py:1505: ScaperWarning: jackhammer event duration (4.22) is greater that source duration (4.00), changing to 4.00\n",
      "  ScaperWarning)\n"
     ]
    },
    {
     "name": "stdout",
     "output_type": "stream",
     "text": [
      "Generating soundscape: 6/20\n"
     ]
    },
    {
     "name": "stderr",
     "output_type": "stream",
     "text": [
      "/Users/dilipharish/Master-Thesis/scaper-master/scaper37env/lib/python3.7/site-packages/scaper/core.py:2078: ScaperWarning: Soundscape audio is clipping!\n",
      "  ScaperWarning)\n",
      "/Users/dilipharish/Master-Thesis/scaper-master/scaper37env/lib/python3.7/site-packages/scaper/core.py:1591: ScaperWarning: car_horn source time tuple (const, 0) could not be satisfied given source duration (4.00) and event duration (10.00), source time tuple changed to (const, 0) but was still not satisfiable, likely due to using 'normal' distribution with bounds too close to the start or end of the audio file\n",
      "  ScaperWarning)\n",
      "/Users/dilipharish/Master-Thesis/scaper-master/scaper37env/lib/python3.7/site-packages/scaper/core.py:1505: ScaperWarning: air_conditioner event duration (5.17) is greater that source duration (4.00), changing to 4.00\n",
      "  ScaperWarning)\n",
      "/Users/dilipharish/Master-Thesis/scaper-master/scaper37env/lib/python3.7/site-packages/scaper/core.py:1505: ScaperWarning: engine_idling event duration (5.25) is greater that source duration (4.00), changing to 4.00\n",
      "  ScaperWarning)\n",
      "/Users/dilipharish/Master-Thesis/scaper-master/scaper37env/lib/python3.7/site-packages/scaper/core.py:1505: ScaperWarning: car_horn event duration (4.79) is greater that source duration (1.44), changing to 1.44\n",
      "  ScaperWarning)\n"
     ]
    },
    {
     "name": "stdout",
     "output_type": "stream",
     "text": [
      "Generating soundscape: 7/20\n"
     ]
    },
    {
     "name": "stderr",
     "output_type": "stream",
     "text": [
      "/Users/dilipharish/Master-Thesis/scaper-master/scaper37env/lib/python3.7/site-packages/scaper/core.py:2078: ScaperWarning: Soundscape audio is clipping!\n",
      "  ScaperWarning)\n",
      "/Users/dilipharish/Master-Thesis/scaper-master/scaper37env/lib/python3.7/site-packages/scaper/core.py:1591: ScaperWarning: car_horn source time tuple (const, 0) could not be satisfied given source duration (4.00) and event duration (10.00), source time tuple changed to (const, 0) but was still not satisfiable, likely due to using 'normal' distribution with bounds too close to the start or end of the audio file\n",
      "  ScaperWarning)\n",
      "/Users/dilipharish/Master-Thesis/scaper-master/scaper37env/lib/python3.7/site-packages/scaper/core.py:1631: ScaperWarning: street_music event time (7.45) is too great given stretched event duration (3.51) and soundscape duration (10.00), changed to 6.49.\n",
      "  ScaperWarning)\n",
      "/Users/dilipharish/Master-Thesis/scaper-master/scaper37env/lib/python3.7/site-packages/scaper/core.py:1505: ScaperWarning: gun_shot event duration (4.34) is greater that source duration (1.33), changing to 1.33\n",
      "  ScaperWarning)\n"
     ]
    },
    {
     "name": "stdout",
     "output_type": "stream",
     "text": [
      "Generating soundscape: 8/20\n"
     ]
    },
    {
     "name": "stderr",
     "output_type": "stream",
     "text": [
      "/Users/dilipharish/Master-Thesis/scaper-master/scaper37env/lib/python3.7/site-packages/scaper/core.py:2078: ScaperWarning: Soundscape audio is clipping!\n",
      "  ScaperWarning)\n",
      "/Users/dilipharish/Master-Thesis/scaper-master/scaper37env/lib/python3.7/site-packages/scaper/core.py:1591: ScaperWarning: car_horn source time tuple (const, 0) could not be satisfied given source duration (0.06) and event duration (10.00), source time tuple changed to (const, 0) but was still not satisfiable, likely due to using 'normal' distribution with bounds too close to the start or end of the audio file\n",
      "  ScaperWarning)\n",
      "/Users/dilipharish/Master-Thesis/scaper-master/scaper37env/lib/python3.7/site-packages/scaper/core.py:1505: ScaperWarning: dog_bark event duration (4.16) is greater that source duration (4.00), changing to 4.00\n",
      "  ScaperWarning)\n"
     ]
    },
    {
     "name": "stdout",
     "output_type": "stream",
     "text": [
      "Generating soundscape: 9/20\n"
     ]
    },
    {
     "name": "stderr",
     "output_type": "stream",
     "text": [
      "/Users/dilipharish/Master-Thesis/scaper-master/scaper37env/lib/python3.7/site-packages/scaper/core.py:2078: ScaperWarning: Soundscape audio is clipping!\n",
      "  ScaperWarning)\n",
      "/Users/dilipharish/Master-Thesis/scaper-master/scaper37env/lib/python3.7/site-packages/scaper/core.py:1591: ScaperWarning: car_horn source time tuple (const, 0) could not be satisfied given source duration (0.89) and event duration (10.00), source time tuple changed to (const, 0) but was still not satisfiable, likely due to using 'normal' distribution with bounds too close to the start or end of the audio file\n",
      "  ScaperWarning)\n",
      "/Users/dilipharish/Master-Thesis/scaper-master/scaper37env/lib/python3.7/site-packages/scaper/core.py:1505: ScaperWarning: drilling event duration (4.47) is greater that source duration (4.00), changing to 4.00\n",
      "  ScaperWarning)\n",
      "/Users/dilipharish/Master-Thesis/scaper-master/scaper37env/lib/python3.7/site-packages/scaper/core.py:1505: ScaperWarning: dog_bark event duration (4.15) is greater that source duration (4.00), changing to 4.00\n",
      "  ScaperWarning)\n",
      "/Users/dilipharish/Master-Thesis/scaper-master/scaper37env/lib/python3.7/site-packages/scaper/core.py:1505: ScaperWarning: children_playing event duration (5.36) is greater that source duration (4.00), changing to 4.00\n",
      "  ScaperWarning)\n",
      "/Users/dilipharish/Master-Thesis/scaper-master/scaper37env/lib/python3.7/site-packages/scaper/core.py:1631: ScaperWarning: children_playing event time (8.71) is too great given stretched event duration (3.76) and soundscape duration (10.00), changed to 6.24.\n",
      "  ScaperWarning)\n"
     ]
    },
    {
     "name": "stdout",
     "output_type": "stream",
     "text": [
      "Generating soundscape: 10/20\n"
     ]
    },
    {
     "name": "stderr",
     "output_type": "stream",
     "text": [
      "/Users/dilipharish/Master-Thesis/scaper-master/scaper37env/lib/python3.7/site-packages/scaper/core.py:2078: ScaperWarning: Soundscape audio is clipping!\n",
      "  ScaperWarning)\n",
      "/Users/dilipharish/Master-Thesis/scaper-master/scaper37env/lib/python3.7/site-packages/scaper/core.py:1591: ScaperWarning: car_horn source time tuple (const, 0) could not be satisfied given source duration (4.00) and event duration (10.00), source time tuple changed to (const, 0) but was still not satisfiable, likely due to using 'normal' distribution with bounds too close to the start or end of the audio file\n",
      "  ScaperWarning)\n",
      "/Users/dilipharish/Master-Thesis/scaper-master/scaper37env/lib/python3.7/site-packages/scaper/core.py:1505: ScaperWarning: street_music event duration (4.48) is greater that source duration (4.00), changing to 4.00\n",
      "  ScaperWarning)\n",
      "/Users/dilipharish/Master-Thesis/scaper-master/scaper37env/lib/python3.7/site-packages/scaper/core.py:1505: ScaperWarning: jackhammer event duration (5.75) is greater that source duration (4.00), changing to 4.00\n",
      "  ScaperWarning)\n",
      "/Users/dilipharish/Master-Thesis/scaper-master/scaper37env/lib/python3.7/site-packages/scaper/core.py:1631: ScaperWarning: jackhammer event time (8.16) is too great given stretched event duration (4.14) and soundscape duration (10.00), changed to 5.86.\n",
      "  ScaperWarning)\n"
     ]
    },
    {
     "name": "stdout",
     "output_type": "stream",
     "text": [
      "Generating soundscape: 11/20\n"
     ]
    },
    {
     "name": "stderr",
     "output_type": "stream",
     "text": [
      "/Users/dilipharish/Master-Thesis/scaper-master/scaper37env/lib/python3.7/site-packages/scaper/core.py:2078: ScaperWarning: Soundscape audio is clipping!\n",
      "  ScaperWarning)\n",
      "/Users/dilipharish/Master-Thesis/scaper-master/scaper37env/lib/python3.7/site-packages/scaper/core.py:1591: ScaperWarning: car_horn source time tuple (const, 0) could not be satisfied given source duration (4.00) and event duration (10.00), source time tuple changed to (const, 0) but was still not satisfiable, likely due to using 'normal' distribution with bounds too close to the start or end of the audio file\n",
      "  ScaperWarning)\n",
      "/Users/dilipharish/Master-Thesis/scaper-master/scaper37env/lib/python3.7/site-packages/scaper/core.py:1505: ScaperWarning: children_playing event duration (4.29) is greater that source duration (4.00), changing to 4.00\n",
      "  ScaperWarning)\n",
      "/Users/dilipharish/Master-Thesis/scaper-master/scaper37env/lib/python3.7/site-packages/scaper/core.py:1505: ScaperWarning: children_playing event duration (4.71) is greater that source duration (4.00), changing to 4.00\n",
      "  ScaperWarning)\n"
     ]
    },
    {
     "name": "stdout",
     "output_type": "stream",
     "text": [
      "Generating soundscape: 12/20\n"
     ]
    },
    {
     "name": "stderr",
     "output_type": "stream",
     "text": [
      "/Users/dilipharish/Master-Thesis/scaper-master/scaper37env/lib/python3.7/site-packages/scaper/core.py:2078: ScaperWarning: Soundscape audio is clipping!\n",
      "  ScaperWarning)\n",
      "/Users/dilipharish/Master-Thesis/scaper-master/scaper37env/lib/python3.7/site-packages/scaper/core.py:1591: ScaperWarning: car_horn source time tuple (const, 0) could not be satisfied given source duration (4.00) and event duration (10.00), source time tuple changed to (const, 0) but was still not satisfiable, likely due to using 'normal' distribution with bounds too close to the start or end of the audio file\n",
      "  ScaperWarning)\n",
      "/Users/dilipharish/Master-Thesis/scaper-master/scaper37env/lib/python3.7/site-packages/scaper/core.py:1505: ScaperWarning: drilling event duration (5.01) is greater that source duration (0.97), changing to 0.97\n",
      "  ScaperWarning)\n",
      "/Users/dilipharish/Master-Thesis/scaper-master/scaper37env/lib/python3.7/site-packages/scaper/core.py:1505: ScaperWarning: street_music event duration (4.47) is greater that source duration (4.00), changing to 4.00\n",
      "  ScaperWarning)\n",
      "/Users/dilipharish/Master-Thesis/scaper-master/scaper37env/lib/python3.7/site-packages/scaper/core.py:1505: ScaperWarning: street_music event duration (4.45) is greater that source duration (4.00), changing to 4.00\n",
      "  ScaperWarning)\n",
      "/Users/dilipharish/Master-Thesis/scaper-master/scaper37env/lib/python3.7/site-packages/scaper/core.py:1505: ScaperWarning: gun_shot event duration (3.09) is greater that source duration (2.01), changing to 2.01\n",
      "  ScaperWarning)\n",
      "/Users/dilipharish/Master-Thesis/scaper-master/scaper37env/lib/python3.7/site-packages/scaper/core.py:1505: ScaperWarning: engine_idling event duration (5.13) is greater that source duration (4.00), changing to 4.00\n",
      "  ScaperWarning)\n",
      "/Users/dilipharish/Master-Thesis/scaper-master/scaper37env/lib/python3.7/site-packages/scaper/core.py:1505: ScaperWarning: dog_bark event duration (4.31) is greater that source duration (0.42), changing to 0.42\n",
      "  ScaperWarning)\n",
      "/Users/dilipharish/Master-Thesis/scaper-master/scaper37env/lib/python3.7/site-packages/scaper/core.py:1505: ScaperWarning: engine_idling event duration (5.79) is greater that source duration (4.00), changing to 4.00\n",
      "  ScaperWarning)\n"
     ]
    },
    {
     "name": "stdout",
     "output_type": "stream",
     "text": [
      "Generating soundscape: 13/20\n"
     ]
    },
    {
     "name": "stderr",
     "output_type": "stream",
     "text": [
      "/Users/dilipharish/Master-Thesis/scaper-master/scaper37env/lib/python3.7/site-packages/scaper/core.py:2078: ScaperWarning: Soundscape audio is clipping!\n",
      "  ScaperWarning)\n",
      "/Users/dilipharish/Master-Thesis/scaper-master/scaper37env/lib/python3.7/site-packages/scaper/core.py:1591: ScaperWarning: car_horn source time tuple (const, 0) could not be satisfied given source duration (0.35) and event duration (10.00), source time tuple changed to (const, 0) but was still not satisfiable, likely due to using 'normal' distribution with bounds too close to the start or end of the audio file\n",
      "  ScaperWarning)\n",
      "/Users/dilipharish/Master-Thesis/scaper-master/scaper37env/lib/python3.7/site-packages/scaper/core.py:1505: ScaperWarning: gun_shot event duration (5.93) is greater that source duration (0.82), changing to 0.82\n",
      "  ScaperWarning)\n"
     ]
    },
    {
     "name": "stdout",
     "output_type": "stream",
     "text": [
      "Generating soundscape: 14/20\n"
     ]
    },
    {
     "name": "stderr",
     "output_type": "stream",
     "text": [
      "/Users/dilipharish/Master-Thesis/scaper-master/scaper37env/lib/python3.7/site-packages/scaper/core.py:2078: ScaperWarning: Soundscape audio is clipping!\n",
      "  ScaperWarning)\n",
      "/Users/dilipharish/Master-Thesis/scaper-master/scaper37env/lib/python3.7/site-packages/scaper/core.py:1591: ScaperWarning: car_horn source time tuple (const, 0) could not be satisfied given source duration (0.37) and event duration (10.00), source time tuple changed to (const, 0) but was still not satisfiable, likely due to using 'normal' distribution with bounds too close to the start or end of the audio file\n",
      "  ScaperWarning)\n",
      "/Users/dilipharish/Master-Thesis/scaper-master/scaper37env/lib/python3.7/site-packages/scaper/core.py:1505: ScaperWarning: jackhammer event duration (2.56) is greater that source duration (1.06), changing to 1.06\n",
      "  ScaperWarning)\n",
      "/Users/dilipharish/Master-Thesis/scaper-master/scaper37env/lib/python3.7/site-packages/scaper/core.py:1505: ScaperWarning: gun_shot event duration (4.64) is greater that source duration (1.81), changing to 1.81\n",
      "  ScaperWarning)\n",
      "/Users/dilipharish/Master-Thesis/scaper-master/scaper37env/lib/python3.7/site-packages/scaper/core.py:1505: ScaperWarning: dog_bark event duration (3.34) is greater that source duration (0.46), changing to 0.46\n",
      "  ScaperWarning)\n"
     ]
    },
    {
     "name": "stdout",
     "output_type": "stream",
     "text": [
      "Generating soundscape: 15/20\n"
     ]
    },
    {
     "name": "stderr",
     "output_type": "stream",
     "text": [
      "/Users/dilipharish/Master-Thesis/scaper-master/scaper37env/lib/python3.7/site-packages/scaper/core.py:2078: ScaperWarning: Soundscape audio is clipping!\n",
      "  ScaperWarning)\n",
      "/Users/dilipharish/Master-Thesis/scaper-master/scaper37env/lib/python3.7/site-packages/scaper/core.py:1591: ScaperWarning: car_horn source time tuple (const, 0) could not be satisfied given source duration (0.11) and event duration (10.00), source time tuple changed to (const, 0) but was still not satisfiable, likely due to using 'normal' distribution with bounds too close to the start or end of the audio file\n",
      "  ScaperWarning)\n",
      "/Users/dilipharish/Master-Thesis/scaper-master/scaper37env/lib/python3.7/site-packages/scaper/core.py:1505: ScaperWarning: street_music event duration (5.41) is greater that source duration (4.00), changing to 4.00\n",
      "  ScaperWarning)\n",
      "/Users/dilipharish/Master-Thesis/scaper-master/scaper37env/lib/python3.7/site-packages/scaper/core.py:1505: ScaperWarning: drilling event duration (5.67) is greater that source duration (4.00), changing to 4.00\n",
      "  ScaperWarning)\n",
      "/Users/dilipharish/Master-Thesis/scaper-master/scaper37env/lib/python3.7/site-packages/scaper/core.py:1505: ScaperWarning: siren event duration (5.14) is greater that source duration (4.00), changing to 4.00\n",
      "  ScaperWarning)\n",
      "/Users/dilipharish/Master-Thesis/scaper-master/scaper37env/lib/python3.7/site-packages/scaper/core.py:1631: ScaperWarning: engine_idling event time (8.31) is too great given stretched event duration (3.02) and soundscape duration (10.00), changed to 6.98.\n",
      "  ScaperWarning)\n",
      "/Users/dilipharish/Master-Thesis/scaper-master/scaper37env/lib/python3.7/site-packages/scaper/core.py:1505: ScaperWarning: gun_shot event duration (3.81) is greater that source duration (1.72), changing to 1.72\n",
      "  ScaperWarning)\n",
      "/Users/dilipharish/Master-Thesis/scaper-master/scaper37env/lib/python3.7/site-packages/scaper/core.py:1505: ScaperWarning: gun_shot event duration (5.61) is greater that source duration (1.10), changing to 1.10\n",
      "  ScaperWarning)\n"
     ]
    },
    {
     "name": "stdout",
     "output_type": "stream",
     "text": [
      "Generating soundscape: 16/20\n"
     ]
    },
    {
     "name": "stderr",
     "output_type": "stream",
     "text": [
      "/Users/dilipharish/Master-Thesis/scaper-master/scaper37env/lib/python3.7/site-packages/scaper/core.py:2078: ScaperWarning: Soundscape audio is clipping!\n",
      "  ScaperWarning)\n",
      "/Users/dilipharish/Master-Thesis/scaper-master/scaper37env/lib/python3.7/site-packages/scaper/core.py:1591: ScaperWarning: car_horn source time tuple (const, 0) could not be satisfied given source duration (4.00) and event duration (10.00), source time tuple changed to (const, 0) but was still not satisfiable, likely due to using 'normal' distribution with bounds too close to the start or end of the audio file\n",
      "  ScaperWarning)\n",
      "/Users/dilipharish/Master-Thesis/scaper-master/scaper37env/lib/python3.7/site-packages/scaper/core.py:1505: ScaperWarning: street_music event duration (5.42) is greater that source duration (4.00), changing to 4.00\n",
      "  ScaperWarning)\n",
      "/Users/dilipharish/Master-Thesis/scaper-master/scaper37env/lib/python3.7/site-packages/scaper/core.py:1631: ScaperWarning: street_music event time (5.90) is too great given stretched event duration (4.45) and soundscape duration (10.00), changed to 5.55.\n",
      "  ScaperWarning)\n"
     ]
    },
    {
     "name": "stdout",
     "output_type": "stream",
     "text": [
      "Generating soundscape: 17/20\n"
     ]
    },
    {
     "name": "stderr",
     "output_type": "stream",
     "text": [
      "/Users/dilipharish/Master-Thesis/scaper-master/scaper37env/lib/python3.7/site-packages/scaper/core.py:2078: ScaperWarning: Soundscape audio is clipping!\n",
      "  ScaperWarning)\n",
      "/Users/dilipharish/Master-Thesis/scaper-master/scaper37env/lib/python3.7/site-packages/scaper/core.py:1591: ScaperWarning: car_horn source time tuple (const, 0) could not be satisfied given source duration (0.54) and event duration (10.00), source time tuple changed to (const, 0) but was still not satisfiable, likely due to using 'normal' distribution with bounds too close to the start or end of the audio file\n",
      "  ScaperWarning)\n",
      "/Users/dilipharish/Master-Thesis/scaper-master/scaper37env/lib/python3.7/site-packages/scaper/core.py:1505: ScaperWarning: siren event duration (5.14) is greater that source duration (4.00), changing to 4.00\n",
      "  ScaperWarning)\n",
      "/Users/dilipharish/Master-Thesis/scaper-master/scaper37env/lib/python3.7/site-packages/scaper/core.py:1631: ScaperWarning: jackhammer event time (7.17) is too great given stretched event duration (4.22) and soundscape duration (10.00), changed to 5.78.\n",
      "  ScaperWarning)\n",
      "/Users/dilipharish/Master-Thesis/scaper-master/scaper37env/lib/python3.7/site-packages/scaper/core.py:1505: ScaperWarning: engine_idling event duration (5.10) is greater that source duration (4.00), changing to 4.00\n",
      "  ScaperWarning)\n",
      "/Users/dilipharish/Master-Thesis/scaper-master/scaper37env/lib/python3.7/site-packages/scaper/core.py:1631: ScaperWarning: engine_idling event time (8.31) is too great given stretched event duration (4.63) and soundscape duration (10.00), changed to 5.37.\n",
      "  ScaperWarning)\n"
     ]
    },
    {
     "name": "stdout",
     "output_type": "stream",
     "text": [
      "Generating soundscape: 18/20\n"
     ]
    },
    {
     "name": "stderr",
     "output_type": "stream",
     "text": [
      "/Users/dilipharish/Master-Thesis/scaper-master/scaper37env/lib/python3.7/site-packages/scaper/core.py:2078: ScaperWarning: Soundscape audio is clipping!\n",
      "  ScaperWarning)\n",
      "/Users/dilipharish/Master-Thesis/scaper-master/scaper37env/lib/python3.7/site-packages/scaper/core.py:1591: ScaperWarning: car_horn source time tuple (const, 0) could not be satisfied given source duration (4.00) and event duration (10.00), source time tuple changed to (const, 0) but was still not satisfiable, likely due to using 'normal' distribution with bounds too close to the start or end of the audio file\n",
      "  ScaperWarning)\n",
      "/Users/dilipharish/Master-Thesis/scaper-master/scaper37env/lib/python3.7/site-packages/scaper/core.py:1505: ScaperWarning: air_conditioner event duration (5.14) is greater that source duration (4.00), changing to 4.00\n",
      "  ScaperWarning)\n",
      "/Users/dilipharish/Master-Thesis/scaper-master/scaper37env/lib/python3.7/site-packages/scaper/core.py:1631: ScaperWarning: air_conditioner event time (7.26) is too great given stretched event duration (4.04) and soundscape duration (10.00), changed to 5.96.\n",
      "  ScaperWarning)\n",
      "/Users/dilipharish/Master-Thesis/scaper-master/scaper37env/lib/python3.7/site-packages/scaper/core.py:1505: ScaperWarning: engine_idling event duration (4.27) is greater that source duration (4.00), changing to 4.00\n",
      "  ScaperWarning)\n",
      "/Users/dilipharish/Master-Thesis/scaper-master/scaper37env/lib/python3.7/site-packages/scaper/core.py:1631: ScaperWarning: engine_idling event time (7.23) is too great given stretched event duration (4.59) and soundscape duration (10.00), changed to 5.41.\n",
      "  ScaperWarning)\n",
      "/Users/dilipharish/Master-Thesis/scaper-master/scaper37env/lib/python3.7/site-packages/scaper/core.py:1505: ScaperWarning: jackhammer event duration (4.56) is greater that source duration (1.42), changing to 1.42\n",
      "  ScaperWarning)\n"
     ]
    },
    {
     "name": "stdout",
     "output_type": "stream",
     "text": [
      "Generating soundscape: 19/20\n"
     ]
    },
    {
     "name": "stderr",
     "output_type": "stream",
     "text": [
      "/Users/dilipharish/Master-Thesis/scaper-master/scaper37env/lib/python3.7/site-packages/scaper/core.py:2078: ScaperWarning: Soundscape audio is clipping!\n",
      "  ScaperWarning)\n",
      "/Users/dilipharish/Master-Thesis/scaper-master/scaper37env/lib/python3.7/site-packages/scaper/core.py:1591: ScaperWarning: car_horn source time tuple (const, 0) could not be satisfied given source duration (4.00) and event duration (10.00), source time tuple changed to (const, 0) but was still not satisfiable, likely due to using 'normal' distribution with bounds too close to the start or end of the audio file\n",
      "  ScaperWarning)\n",
      "/Users/dilipharish/Master-Thesis/scaper-master/scaper37env/lib/python3.7/site-packages/scaper/core.py:1505: ScaperWarning: street_music event duration (5.44) is greater that source duration (4.00), changing to 4.00\n",
      "  ScaperWarning)\n",
      "/Users/dilipharish/Master-Thesis/scaper-master/scaper37env/lib/python3.7/site-packages/scaper/core.py:1505: ScaperWarning: dog_bark event duration (4.81) is greater that source duration (4.00), changing to 4.00\n",
      "  ScaperWarning)\n",
      "/Users/dilipharish/Master-Thesis/scaper-master/scaper37env/lib/python3.7/site-packages/scaper/core.py:1631: ScaperWarning: dog_bark event time (6.94) is too great given stretched event duration (4.69) and soundscape duration (10.00), changed to 5.31.\n",
      "  ScaperWarning)\n",
      "/Users/dilipharish/Master-Thesis/scaper-master/scaper37env/lib/python3.7/site-packages/scaper/core.py:1505: ScaperWarning: drilling event duration (4.18) is greater that source duration (4.00), changing to 4.00\n",
      "  ScaperWarning)\n",
      "/Users/dilipharish/Master-Thesis/scaper-master/scaper37env/lib/python3.7/site-packages/scaper/core.py:1631: ScaperWarning: drilling event time (6.51) is too great given stretched event duration (3.90) and soundscape duration (10.00), changed to 6.10.\n",
      "  ScaperWarning)\n"
     ]
    },
    {
     "name": "stdout",
     "output_type": "stream",
     "text": [
      "Generating soundscape: 20/20\n"
     ]
    },
    {
     "name": "stderr",
     "output_type": "stream",
     "text": [
      "/Users/dilipharish/Master-Thesis/scaper-master/scaper37env/lib/python3.7/site-packages/scaper/core.py:2078: ScaperWarning: Soundscape audio is clipping!\n",
      "  ScaperWarning)\n"
     ]
    }
   ],
   "source": [
    "# Generate 2000 soundscapes using a UNIFORM distribution of start times\n",
    "\n",
    "for n in range(n_soundscapes):\n",
    "    \n",
    "    print('Generating soundscape: {:d}/{:d}'.format(n+1, n_soundscapes))\n",
    "    \n",
    "    # create a scaper\n",
    "    sc = scaper.Scaper(duration, fg_folder, bg_folder)\n",
    "    sc.protected_labels = []\n",
    "    sc.ref_db = ref_db\n",
    "    \n",
    "    # add background\n",
    "    sc.add_background(label=('const', 'car_horn'), \n",
    "                      source_file=('choose', []), \n",
    "                      source_time=('const', 0))\n",
    "\n",
    "    # add random foreground events\n",
    "    n_events = np.random.randint(min_events, max_events+1)\n",
    "    for _ in range(n_events):\n",
    "        sc.add_event(label=('choose', []), \n",
    "                     source_file=('choose', []), \n",
    "                     source_time=(source_time_dist, source_time), \n",
    "                     event_time=(event_time_dist, event_time_mean, event_time_std, event_time_min, event_time_max), \n",
    "                     event_duration=(event_duration_dist, event_duration_mean, event_duration_std,event_duration_min, event_duration_max), \n",
    "                     snr=(snr_dist, snr_min, snr_max),\n",
    "                     pitch_shift=(pitch_dist, pitch_min, pitch_max),\n",
    "                     time_stretch=(time_stretch_dist, time_stretch_min, time_stretch_max))\n",
    "    \n",
    "    # generate\n",
    "    audiofile = os.path.join(outfolder, \"soundscape_train_unimodal{:d}.wav\".format(n))\n",
    "    jamsfile = os.path.join(outfolder, \"soundscape_train_unimodal{:d}.jams\".format(n))\n",
    "    txtfile = os.path.join(outfolder, \"soundscape_train_unimodal{:d}.txt\".format(n))\n",
    "    \n",
    "    sc.generate(audiofile, jamsfile,\n",
    "                allow_repeated_label=True,\n",
    "                allow_repeated_source=False,\n",
    "                reverb=0.1,\n",
    "                disable_sox_warnings=True,\n",
    "                no_audio=False,\n",
    "                txt_path=txtfile)"
   ]
  },
  {
   "cell_type": "code",
   "execution_count": null,
   "metadata": {
    "collapsed": true,
    "deletable": true,
    "editable": true
   },
   "outputs": [],
   "source": []
  }
 ],
 "metadata": {
  "kernelspec": {
   "display_name": "Python 3",
   "language": "python",
   "name": "python3"
  },
  "language_info": {
   "codemirror_mode": {
    "name": "ipython",
    "version": 3
   },
   "file_extension": ".py",
   "mimetype": "text/x-python",
   "name": "python",
   "nbconvert_exporter": "python",
   "pygments_lexer": "ipython3",
   "version": "3.7.16"
  }
 },
 "nbformat": 4,
 "nbformat_minor": 2
}
